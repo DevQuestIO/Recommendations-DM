{
  "cells": [
    {
      "cell_type": "markdown",
      "id": "fd9f58ed",
      "metadata": {
        "id": "fd9f58ed"
      },
      "source": [
        "# CRISP-DM Methodology: Data Preparation Stage\n",
        "This notebook is part of the **Data Preparation** stage of the CRISP-DM methodology.\n",
        "\n",
        "### Stage Overview:\n",
        "Data Preparation is the process of cleaning, transforming, and organizing raw data into a format suitable for analysis and modeling.\n",
        "\n",
        "The following tasks will be performed in this notebook:\n",
        "1. **Handling Missing Values**: Identify and resolve missing data issues.\n",
        "2. **Handling Duplicates**: Remove duplicate records from the dataset.\n",
        "3. **Feature Engineering**: Modify or create new features for better model performance.\n",
        "4. **Encoding Categorical Variables**: Transform categorical data into numerical formats.\n",
        "5. **Data Normalization/Scaling**: Standardize numerical features for consistency.\n",
        "\n",
        "\n",
        "<h1>Data Preprocessing on leetcode's scraped data using Python, Numpy & Pandas</h1>"
      ]
    },
    {
      "cell_type": "markdown",
      "id": "9ce83f4f",
      "metadata": {
        "id": "9ce83f4f"
      },
      "source": [
        "<center>\n",
        "    <img src=\"https://i.imgur.com/FGODlma.jpg\" width=60% style=\"box-shadow:rgba(52, 64, 77, 0.2);border-radius:10px;\">\n",
        "</center>"
      ]
    },
    {
      "cell_type": "markdown",
      "id": "210f0510",
      "metadata": {
        "id": "210f0510"
      },
      "source": [
        "#### `Introduction`\n",
        "\n",
        "- This notebook revolves around the comprehensive data preprocessing and feature engineering of a dataset containing 3000 LeetCode problems.\n",
        "- In this dataset, 840 of these problems are classified as premium, which posed a unique challenge due to a lack of additional data."
      ]
    },
    {
      "cell_type": "markdown",
      "id": "875e35aa",
      "metadata": {
        "id": "875e35aa"
      },
      "source": [
        "<center><h1> Overview of the Scraped Data</h1></center>"
      ]
    },
    {
      "cell_type": "code",
      "source": [
        "!pip install pandas numpy"
      ],
      "metadata": {
        "colab": {
          "base_uri": "https://localhost:8080/"
        },
        "id": "UMxqOLBxOo9O",
        "outputId": "8071b4a1-cad6-4d5e-9c8c-1f2aa82c1bf7"
      },
      "id": "UMxqOLBxOo9O",
      "execution_count": 1,
      "outputs": [
        {
          "output_type": "stream",
          "name": "stdout",
          "text": [
            "Requirement already satisfied: pandas in /usr/local/lib/python3.10/dist-packages (2.2.2)\n",
            "Requirement already satisfied: numpy in /usr/local/lib/python3.10/dist-packages (1.26.4)\n",
            "Requirement already satisfied: python-dateutil>=2.8.2 in /usr/local/lib/python3.10/dist-packages (from pandas) (2.8.2)\n",
            "Requirement already satisfied: pytz>=2020.1 in /usr/local/lib/python3.10/dist-packages (from pandas) (2024.2)\n",
            "Requirement already satisfied: tzdata>=2022.7 in /usr/local/lib/python3.10/dist-packages (from pandas) (2024.2)\n",
            "Requirement already satisfied: six>=1.5 in /usr/local/lib/python3.10/dist-packages (from python-dateutil>=2.8.2->pandas) (1.17.0)\n"
          ]
        }
      ]
    },
    {
      "cell_type": "code",
      "execution_count": 2,
      "id": "891bd3b2",
      "metadata": {
        "id": "891bd3b2"
      },
      "outputs": [],
      "source": [
        "# Import necessary libraries\n",
        "import numpy as np\n",
        "import pandas as pd\n",
        "\n",
        "# Suppress warnings to enhance the code output clarity\n",
        "import warnings\n",
        "warnings.filterwarnings(\"ignore\")"
      ]
    },
    {
      "cell_type": "code",
      "execution_count": 4,
      "id": "0f9b62c2",
      "metadata": {
        "id": "0f9b62c2"
      },
      "outputs": [],
      "source": [
        "# Read the scraped data from the CSV file into a DataFrame\n",
        "df = pd.read_csv('leetcode_scraped_data.csv')\n",
        "dff = df.copy()"
      ]
    },
    {
      "cell_type": "code",
      "execution_count": 5,
      "id": "15b6502b",
      "metadata": {
        "id": "15b6502b",
        "colab": {
          "base_uri": "https://localhost:8080/",
          "height": 904
        },
        "outputId": "c319c06c-4a6d-4dbf-b798-78b4cd1051ca"
      },
      "outputs": [
        {
          "output_type": "execute_result",
          "data": {
            "text/plain": [
              "                                                  title  \\\n",
              "1709                     1710. Maximum Units on a Truck   \n",
              "1890                              1891. Cutting Ribbons   \n",
              "1969           1970. Last Day Where You Can Still Cross   \n",
              "965                             966. Vowel Spellchecker   \n",
              "805                806. Number of Lines To Write String   \n",
              "663                                664. Strange Printer   \n",
              "1233    1234. Replace the Substring for Balanced String   \n",
              "2374     2375. Construct Smallest Number From DI String   \n",
              "1793  1794. Count Pairs of Equal Substrings With Min...   \n",
              "675                     676. Implement Magic Dictionary   \n",
              "\n",
              "                                            problem_URL acceptance difficulty  \\\n",
              "1709  https://leetcode.com/problems/maximum-units-on...      73.9%       Easy   \n",
              "1890      https://leetcode.com/problems/cutting-ribbons      51.1%     Medium   \n",
              "1969  https://leetcode.com/problems/last-day-where-y...      61.9%       Hard   \n",
              "965    https://leetcode.com/problems/vowel-spellchecker      51.4%     Medium   \n",
              "805   https://leetcode.com/problems/number-of-lines-...      69.7%       Easy   \n",
              "663       https://leetcode.com/problems/strange-printer      61.0%       Hard   \n",
              "1233  https://leetcode.com/problems/replace-the-subs...      38.8%     Medium   \n",
              "2374  https://leetcode.com/problems/construct-smalle...      76.2%     Medium   \n",
              "1793  https://leetcode.com/problems/count-pairs-of-e...      65.2%     Medium   \n",
              "675   https://leetcode.com/problems/implement-magic-...      57.8%     Medium   \n",
              "\n",
              "                                           solution_URL is_premium  \\\n",
              "1709  https://leetcode.com/problems/maximum-units-on...      False   \n",
              "1890  https://leetcode.com/problems/cutting-ribbons/...        NaN   \n",
              "1969  https://leetcode.com/problems/last-day-where-y...      False   \n",
              "965   https://leetcode.com/problems/vowel-spellcheck...      False   \n",
              "805   https://leetcode.com/problems/number-of-lines-...      False   \n",
              "663   https://leetcode.com/problems/strange-printer/...      False   \n",
              "1233  https://leetcode.com/problems/replace-the-subs...      False   \n",
              "2374  https://leetcode.com/problems/construct-smalle...      False   \n",
              "1793  https://leetcode.com/problems/count-pairs-of-e...        NaN   \n",
              "675   https://leetcode.com/problems/implement-magic-...      False   \n",
              "\n",
              "                                    problem_description  \\\n",
              "1709  You are assigned to put some amount of boxes o...   \n",
              "1890                                                NaN   \n",
              "1969  There is a 1-based binary matrix where 0 repre...   \n",
              "965   Given a wordlist, we want to implement a spell...   \n",
              "805   You are given a string s of lowercase English ...   \n",
              "663   There is a strange printer with the following ...   \n",
              "1233  You are given a string s of length n containin...   \n",
              "2374  You are given a 0-indexed string pattern of le...   \n",
              "1793                                                NaN   \n",
              "675   Design a data structure that is initialized wi...   \n",
              "\n",
              "                                             topic_tags accepted submission  \\\n",
              "1709                       'Array', 'Greedy', 'Sorting'   326.7K       442K   \n",
              "1890                                                NaN      NaN        NaN   \n",
              "1969  'Array', 'Binary Search', 'Depth-First Search'...    58.9K      95.1K   \n",
              "965                     'Array', 'Hash Table', 'String'    43.7K      85.1K   \n",
              "805                                   'Array', 'String'    89.5K     128.5K   \n",
              "663                     'String', 'Dynamic Programming'   149.1K     244.6K   \n",
              "1233                         'String', 'Sliding Window'    37.6K      96.9K   \n",
              "2374        'String', 'Backtracking', 'Stack', 'Greedy'      37K      48.6K   \n",
              "1793                                                NaN      NaN        NaN   \n",
              "675   'Hash Table', 'String', 'Depth-First Search', ...    89.3K     154.4K   \n",
              "\n",
              "     discussion_count likes                                  similar_questions  \n",
              "1709               18  3.9K         'Maximum Bags With Full Capacity of Rocks'  \n",
              "1890              NaN   NaN                                                NaN  \n",
              "1969               72  1.9K  'Bricks Falling When Hit', 'Escape the Spreadi...  \n",
              "965                 6   430                                                NaN  \n",
              "805                21   616                                                NaN  \n",
              "663               206  2.7K               'Remove Boxes', 'Strange Printer II'  \n",
              "1233               14  1.2K                                                NaN  \n",
              "2374                9   962                                  'DI String Match'  \n",
              "1793              NaN   NaN                                                NaN  \n",
              "675                13  1.4K  'Implement Trie (Prefix Tree)', 'Longest Word ...  "
            ],
            "text/html": [
              "\n",
              "  <div id=\"df-fd5dd7a6-82ff-4f37-8060-6e95d8f8753e\" class=\"colab-df-container\">\n",
              "    <div>\n",
              "<style scoped>\n",
              "    .dataframe tbody tr th:only-of-type {\n",
              "        vertical-align: middle;\n",
              "    }\n",
              "\n",
              "    .dataframe tbody tr th {\n",
              "        vertical-align: top;\n",
              "    }\n",
              "\n",
              "    .dataframe thead th {\n",
              "        text-align: right;\n",
              "    }\n",
              "</style>\n",
              "<table border=\"1\" class=\"dataframe\">\n",
              "  <thead>\n",
              "    <tr style=\"text-align: right;\">\n",
              "      <th></th>\n",
              "      <th>title</th>\n",
              "      <th>problem_URL</th>\n",
              "      <th>acceptance</th>\n",
              "      <th>difficulty</th>\n",
              "      <th>solution_URL</th>\n",
              "      <th>is_premium</th>\n",
              "      <th>problem_description</th>\n",
              "      <th>topic_tags</th>\n",
              "      <th>accepted</th>\n",
              "      <th>submission</th>\n",
              "      <th>discussion_count</th>\n",
              "      <th>likes</th>\n",
              "      <th>similar_questions</th>\n",
              "    </tr>\n",
              "  </thead>\n",
              "  <tbody>\n",
              "    <tr>\n",
              "      <th>1709</th>\n",
              "      <td>1710. Maximum Units on a Truck</td>\n",
              "      <td>https://leetcode.com/problems/maximum-units-on...</td>\n",
              "      <td>73.9%</td>\n",
              "      <td>Easy</td>\n",
              "      <td>https://leetcode.com/problems/maximum-units-on...</td>\n",
              "      <td>False</td>\n",
              "      <td>You are assigned to put some amount of boxes o...</td>\n",
              "      <td>'Array', 'Greedy', 'Sorting'</td>\n",
              "      <td>326.7K</td>\n",
              "      <td>442K</td>\n",
              "      <td>18</td>\n",
              "      <td>3.9K</td>\n",
              "      <td>'Maximum Bags With Full Capacity of Rocks'</td>\n",
              "    </tr>\n",
              "    <tr>\n",
              "      <th>1890</th>\n",
              "      <td>1891. Cutting Ribbons</td>\n",
              "      <td>https://leetcode.com/problems/cutting-ribbons</td>\n",
              "      <td>51.1%</td>\n",
              "      <td>Medium</td>\n",
              "      <td>https://leetcode.com/problems/cutting-ribbons/...</td>\n",
              "      <td>NaN</td>\n",
              "      <td>NaN</td>\n",
              "      <td>NaN</td>\n",
              "      <td>NaN</td>\n",
              "      <td>NaN</td>\n",
              "      <td>NaN</td>\n",
              "      <td>NaN</td>\n",
              "      <td>NaN</td>\n",
              "    </tr>\n",
              "    <tr>\n",
              "      <th>1969</th>\n",
              "      <td>1970. Last Day Where You Can Still Cross</td>\n",
              "      <td>https://leetcode.com/problems/last-day-where-y...</td>\n",
              "      <td>61.9%</td>\n",
              "      <td>Hard</td>\n",
              "      <td>https://leetcode.com/problems/last-day-where-y...</td>\n",
              "      <td>False</td>\n",
              "      <td>There is a 1-based binary matrix where 0 repre...</td>\n",
              "      <td>'Array', 'Binary Search', 'Depth-First Search'...</td>\n",
              "      <td>58.9K</td>\n",
              "      <td>95.1K</td>\n",
              "      <td>72</td>\n",
              "      <td>1.9K</td>\n",
              "      <td>'Bricks Falling When Hit', 'Escape the Spreadi...</td>\n",
              "    </tr>\n",
              "    <tr>\n",
              "      <th>965</th>\n",
              "      <td>966. Vowel Spellchecker</td>\n",
              "      <td>https://leetcode.com/problems/vowel-spellchecker</td>\n",
              "      <td>51.4%</td>\n",
              "      <td>Medium</td>\n",
              "      <td>https://leetcode.com/problems/vowel-spellcheck...</td>\n",
              "      <td>False</td>\n",
              "      <td>Given a wordlist, we want to implement a spell...</td>\n",
              "      <td>'Array', 'Hash Table', 'String'</td>\n",
              "      <td>43.7K</td>\n",
              "      <td>85.1K</td>\n",
              "      <td>6</td>\n",
              "      <td>430</td>\n",
              "      <td>NaN</td>\n",
              "    </tr>\n",
              "    <tr>\n",
              "      <th>805</th>\n",
              "      <td>806. Number of Lines To Write String</td>\n",
              "      <td>https://leetcode.com/problems/number-of-lines-...</td>\n",
              "      <td>69.7%</td>\n",
              "      <td>Easy</td>\n",
              "      <td>https://leetcode.com/problems/number-of-lines-...</td>\n",
              "      <td>False</td>\n",
              "      <td>You are given a string s of lowercase English ...</td>\n",
              "      <td>'Array', 'String'</td>\n",
              "      <td>89.5K</td>\n",
              "      <td>128.5K</td>\n",
              "      <td>21</td>\n",
              "      <td>616</td>\n",
              "      <td>NaN</td>\n",
              "    </tr>\n",
              "    <tr>\n",
              "      <th>663</th>\n",
              "      <td>664. Strange Printer</td>\n",
              "      <td>https://leetcode.com/problems/strange-printer</td>\n",
              "      <td>61.0%</td>\n",
              "      <td>Hard</td>\n",
              "      <td>https://leetcode.com/problems/strange-printer/...</td>\n",
              "      <td>False</td>\n",
              "      <td>There is a strange printer with the following ...</td>\n",
              "      <td>'String', 'Dynamic Programming'</td>\n",
              "      <td>149.1K</td>\n",
              "      <td>244.6K</td>\n",
              "      <td>206</td>\n",
              "      <td>2.7K</td>\n",
              "      <td>'Remove Boxes', 'Strange Printer II'</td>\n",
              "    </tr>\n",
              "    <tr>\n",
              "      <th>1233</th>\n",
              "      <td>1234. Replace the Substring for Balanced String</td>\n",
              "      <td>https://leetcode.com/problems/replace-the-subs...</td>\n",
              "      <td>38.8%</td>\n",
              "      <td>Medium</td>\n",
              "      <td>https://leetcode.com/problems/replace-the-subs...</td>\n",
              "      <td>False</td>\n",
              "      <td>You are given a string s of length n containin...</td>\n",
              "      <td>'String', 'Sliding Window'</td>\n",
              "      <td>37.6K</td>\n",
              "      <td>96.9K</td>\n",
              "      <td>14</td>\n",
              "      <td>1.2K</td>\n",
              "      <td>NaN</td>\n",
              "    </tr>\n",
              "    <tr>\n",
              "      <th>2374</th>\n",
              "      <td>2375. Construct Smallest Number From DI String</td>\n",
              "      <td>https://leetcode.com/problems/construct-smalle...</td>\n",
              "      <td>76.2%</td>\n",
              "      <td>Medium</td>\n",
              "      <td>https://leetcode.com/problems/construct-smalle...</td>\n",
              "      <td>False</td>\n",
              "      <td>You are given a 0-indexed string pattern of le...</td>\n",
              "      <td>'String', 'Backtracking', 'Stack', 'Greedy'</td>\n",
              "      <td>37K</td>\n",
              "      <td>48.6K</td>\n",
              "      <td>9</td>\n",
              "      <td>962</td>\n",
              "      <td>'DI String Match'</td>\n",
              "    </tr>\n",
              "    <tr>\n",
              "      <th>1793</th>\n",
              "      <td>1794. Count Pairs of Equal Substrings With Min...</td>\n",
              "      <td>https://leetcode.com/problems/count-pairs-of-e...</td>\n",
              "      <td>65.2%</td>\n",
              "      <td>Medium</td>\n",
              "      <td>https://leetcode.com/problems/count-pairs-of-e...</td>\n",
              "      <td>NaN</td>\n",
              "      <td>NaN</td>\n",
              "      <td>NaN</td>\n",
              "      <td>NaN</td>\n",
              "      <td>NaN</td>\n",
              "      <td>NaN</td>\n",
              "      <td>NaN</td>\n",
              "      <td>NaN</td>\n",
              "    </tr>\n",
              "    <tr>\n",
              "      <th>675</th>\n",
              "      <td>676. Implement Magic Dictionary</td>\n",
              "      <td>https://leetcode.com/problems/implement-magic-...</td>\n",
              "      <td>57.8%</td>\n",
              "      <td>Medium</td>\n",
              "      <td>https://leetcode.com/problems/implement-magic-...</td>\n",
              "      <td>False</td>\n",
              "      <td>Design a data structure that is initialized wi...</td>\n",
              "      <td>'Hash Table', 'String', 'Depth-First Search', ...</td>\n",
              "      <td>89.3K</td>\n",
              "      <td>154.4K</td>\n",
              "      <td>13</td>\n",
              "      <td>1.4K</td>\n",
              "      <td>'Implement Trie (Prefix Tree)', 'Longest Word ...</td>\n",
              "    </tr>\n",
              "  </tbody>\n",
              "</table>\n",
              "</div>\n",
              "    <div class=\"colab-df-buttons\">\n",
              "\n",
              "  <div class=\"colab-df-container\">\n",
              "    <button class=\"colab-df-convert\" onclick=\"convertToInteractive('df-fd5dd7a6-82ff-4f37-8060-6e95d8f8753e')\"\n",
              "            title=\"Convert this dataframe to an interactive table.\"\n",
              "            style=\"display:none;\">\n",
              "\n",
              "  <svg xmlns=\"http://www.w3.org/2000/svg\" height=\"24px\" viewBox=\"0 -960 960 960\">\n",
              "    <path d=\"M120-120v-720h720v720H120Zm60-500h600v-160H180v160Zm220 220h160v-160H400v160Zm0 220h160v-160H400v160ZM180-400h160v-160H180v160Zm440 0h160v-160H620v160ZM180-180h160v-160H180v160Zm440 0h160v-160H620v160Z\"/>\n",
              "  </svg>\n",
              "    </button>\n",
              "\n",
              "  <style>\n",
              "    .colab-df-container {\n",
              "      display:flex;\n",
              "      gap: 12px;\n",
              "    }\n",
              "\n",
              "    .colab-df-convert {\n",
              "      background-color: #E8F0FE;\n",
              "      border: none;\n",
              "      border-radius: 50%;\n",
              "      cursor: pointer;\n",
              "      display: none;\n",
              "      fill: #1967D2;\n",
              "      height: 32px;\n",
              "      padding: 0 0 0 0;\n",
              "      width: 32px;\n",
              "    }\n",
              "\n",
              "    .colab-df-convert:hover {\n",
              "      background-color: #E2EBFA;\n",
              "      box-shadow: 0px 1px 2px rgba(60, 64, 67, 0.3), 0px 1px 3px 1px rgba(60, 64, 67, 0.15);\n",
              "      fill: #174EA6;\n",
              "    }\n",
              "\n",
              "    .colab-df-buttons div {\n",
              "      margin-bottom: 4px;\n",
              "    }\n",
              "\n",
              "    [theme=dark] .colab-df-convert {\n",
              "      background-color: #3B4455;\n",
              "      fill: #D2E3FC;\n",
              "    }\n",
              "\n",
              "    [theme=dark] .colab-df-convert:hover {\n",
              "      background-color: #434B5C;\n",
              "      box-shadow: 0px 1px 3px 1px rgba(0, 0, 0, 0.15);\n",
              "      filter: drop-shadow(0px 1px 2px rgba(0, 0, 0, 0.3));\n",
              "      fill: #FFFFFF;\n",
              "    }\n",
              "  </style>\n",
              "\n",
              "    <script>\n",
              "      const buttonEl =\n",
              "        document.querySelector('#df-fd5dd7a6-82ff-4f37-8060-6e95d8f8753e button.colab-df-convert');\n",
              "      buttonEl.style.display =\n",
              "        google.colab.kernel.accessAllowed ? 'block' : 'none';\n",
              "\n",
              "      async function convertToInteractive(key) {\n",
              "        const element = document.querySelector('#df-fd5dd7a6-82ff-4f37-8060-6e95d8f8753e');\n",
              "        const dataTable =\n",
              "          await google.colab.kernel.invokeFunction('convertToInteractive',\n",
              "                                                    [key], {});\n",
              "        if (!dataTable) return;\n",
              "\n",
              "        const docLinkHtml = 'Like what you see? Visit the ' +\n",
              "          '<a target=\"_blank\" href=https://colab.research.google.com/notebooks/data_table.ipynb>data table notebook</a>'\n",
              "          + ' to learn more about interactive tables.';\n",
              "        element.innerHTML = '';\n",
              "        dataTable['output_type'] = 'display_data';\n",
              "        await google.colab.output.renderOutput(dataTable, element);\n",
              "        const docLink = document.createElement('div');\n",
              "        docLink.innerHTML = docLinkHtml;\n",
              "        element.appendChild(docLink);\n",
              "      }\n",
              "    </script>\n",
              "  </div>\n",
              "\n",
              "\n",
              "<div id=\"df-901abed3-f067-4d03-b40d-a48501f52583\">\n",
              "  <button class=\"colab-df-quickchart\" onclick=\"quickchart('df-901abed3-f067-4d03-b40d-a48501f52583')\"\n",
              "            title=\"Suggest charts\"\n",
              "            style=\"display:none;\">\n",
              "\n",
              "<svg xmlns=\"http://www.w3.org/2000/svg\" height=\"24px\"viewBox=\"0 0 24 24\"\n",
              "     width=\"24px\">\n",
              "    <g>\n",
              "        <path d=\"M19 3H5c-1.1 0-2 .9-2 2v14c0 1.1.9 2 2 2h14c1.1 0 2-.9 2-2V5c0-1.1-.9-2-2-2zM9 17H7v-7h2v7zm4 0h-2V7h2v10zm4 0h-2v-4h2v4z\"/>\n",
              "    </g>\n",
              "</svg>\n",
              "  </button>\n",
              "\n",
              "<style>\n",
              "  .colab-df-quickchart {\n",
              "      --bg-color: #E8F0FE;\n",
              "      --fill-color: #1967D2;\n",
              "      --hover-bg-color: #E2EBFA;\n",
              "      --hover-fill-color: #174EA6;\n",
              "      --disabled-fill-color: #AAA;\n",
              "      --disabled-bg-color: #DDD;\n",
              "  }\n",
              "\n",
              "  [theme=dark] .colab-df-quickchart {\n",
              "      --bg-color: #3B4455;\n",
              "      --fill-color: #D2E3FC;\n",
              "      --hover-bg-color: #434B5C;\n",
              "      --hover-fill-color: #FFFFFF;\n",
              "      --disabled-bg-color: #3B4455;\n",
              "      --disabled-fill-color: #666;\n",
              "  }\n",
              "\n",
              "  .colab-df-quickchart {\n",
              "    background-color: var(--bg-color);\n",
              "    border: none;\n",
              "    border-radius: 50%;\n",
              "    cursor: pointer;\n",
              "    display: none;\n",
              "    fill: var(--fill-color);\n",
              "    height: 32px;\n",
              "    padding: 0;\n",
              "    width: 32px;\n",
              "  }\n",
              "\n",
              "  .colab-df-quickchart:hover {\n",
              "    background-color: var(--hover-bg-color);\n",
              "    box-shadow: 0 1px 2px rgba(60, 64, 67, 0.3), 0 1px 3px 1px rgba(60, 64, 67, 0.15);\n",
              "    fill: var(--button-hover-fill-color);\n",
              "  }\n",
              "\n",
              "  .colab-df-quickchart-complete:disabled,\n",
              "  .colab-df-quickchart-complete:disabled:hover {\n",
              "    background-color: var(--disabled-bg-color);\n",
              "    fill: var(--disabled-fill-color);\n",
              "    box-shadow: none;\n",
              "  }\n",
              "\n",
              "  .colab-df-spinner {\n",
              "    border: 2px solid var(--fill-color);\n",
              "    border-color: transparent;\n",
              "    border-bottom-color: var(--fill-color);\n",
              "    animation:\n",
              "      spin 1s steps(1) infinite;\n",
              "  }\n",
              "\n",
              "  @keyframes spin {\n",
              "    0% {\n",
              "      border-color: transparent;\n",
              "      border-bottom-color: var(--fill-color);\n",
              "      border-left-color: var(--fill-color);\n",
              "    }\n",
              "    20% {\n",
              "      border-color: transparent;\n",
              "      border-left-color: var(--fill-color);\n",
              "      border-top-color: var(--fill-color);\n",
              "    }\n",
              "    30% {\n",
              "      border-color: transparent;\n",
              "      border-left-color: var(--fill-color);\n",
              "      border-top-color: var(--fill-color);\n",
              "      border-right-color: var(--fill-color);\n",
              "    }\n",
              "    40% {\n",
              "      border-color: transparent;\n",
              "      border-right-color: var(--fill-color);\n",
              "      border-top-color: var(--fill-color);\n",
              "    }\n",
              "    60% {\n",
              "      border-color: transparent;\n",
              "      border-right-color: var(--fill-color);\n",
              "    }\n",
              "    80% {\n",
              "      border-color: transparent;\n",
              "      border-right-color: var(--fill-color);\n",
              "      border-bottom-color: var(--fill-color);\n",
              "    }\n",
              "    90% {\n",
              "      border-color: transparent;\n",
              "      border-bottom-color: var(--fill-color);\n",
              "    }\n",
              "  }\n",
              "</style>\n",
              "\n",
              "  <script>\n",
              "    async function quickchart(key) {\n",
              "      const quickchartButtonEl =\n",
              "        document.querySelector('#' + key + ' button');\n",
              "      quickchartButtonEl.disabled = true;  // To prevent multiple clicks.\n",
              "      quickchartButtonEl.classList.add('colab-df-spinner');\n",
              "      try {\n",
              "        const charts = await google.colab.kernel.invokeFunction(\n",
              "            'suggestCharts', [key], {});\n",
              "      } catch (error) {\n",
              "        console.error('Error during call to suggestCharts:', error);\n",
              "      }\n",
              "      quickchartButtonEl.classList.remove('colab-df-spinner');\n",
              "      quickchartButtonEl.classList.add('colab-df-quickchart-complete');\n",
              "    }\n",
              "    (() => {\n",
              "      let quickchartButtonEl =\n",
              "        document.querySelector('#df-901abed3-f067-4d03-b40d-a48501f52583 button');\n",
              "      quickchartButtonEl.style.display =\n",
              "        google.colab.kernel.accessAllowed ? 'block' : 'none';\n",
              "    })();\n",
              "  </script>\n",
              "</div>\n",
              "\n",
              "    </div>\n",
              "  </div>\n"
            ],
            "application/vnd.google.colaboratory.intrinsic+json": {
              "type": "dataframe",
              "summary": "{\n  \"name\": \"df\",\n  \"rows\": 10,\n  \"fields\": [\n    {\n      \"column\": \"title\",\n      \"properties\": {\n        \"dtype\": \"string\",\n        \"num_unique_values\": 10,\n        \"samples\": [\n          \"1794. Count Pairs of Equal Substrings With Minimum Difference\",\n          \"1891. Cutting Ribbons\",\n          \"664. Strange Printer\"\n        ],\n        \"semantic_type\": \"\",\n        \"description\": \"\"\n      }\n    },\n    {\n      \"column\": \"problem_URL\",\n      \"properties\": {\n        \"dtype\": \"string\",\n        \"num_unique_values\": 10,\n        \"samples\": [\n          \"https://leetcode.com/problems/count-pairs-of-equal-substrings-with-minimum-difference\",\n          \"https://leetcode.com/problems/cutting-ribbons\",\n          \"https://leetcode.com/problems/strange-printer\"\n        ],\n        \"semantic_type\": \"\",\n        \"description\": \"\"\n      }\n    },\n    {\n      \"column\": \"acceptance\",\n      \"properties\": {\n        \"dtype\": \"string\",\n        \"num_unique_values\": 10,\n        \"samples\": [\n          \"65.2%\",\n          \"51.1%\",\n          \"61.0%\"\n        ],\n        \"semantic_type\": \"\",\n        \"description\": \"\"\n      }\n    },\n    {\n      \"column\": \"difficulty\",\n      \"properties\": {\n        \"dtype\": \"category\",\n        \"num_unique_values\": 3,\n        \"samples\": [\n          \"Easy\",\n          \"Medium\",\n          \"Hard\"\n        ],\n        \"semantic_type\": \"\",\n        \"description\": \"\"\n      }\n    },\n    {\n      \"column\": \"solution_URL\",\n      \"properties\": {\n        \"dtype\": \"string\",\n        \"num_unique_values\": 10,\n        \"samples\": [\n          \"https://leetcode.com/problems/count-pairs-of-equal-substrings-with-minimum-difference/solution\",\n          \"https://leetcode.com/problems/cutting-ribbons/solution\",\n          \"https://leetcode.com/problems/strange-printer/solution\"\n        ],\n        \"semantic_type\": \"\",\n        \"description\": \"\"\n      }\n    },\n    {\n      \"column\": \"is_premium\",\n      \"properties\": {\n        \"dtype\": \"category\",\n        \"num_unique_values\": 1,\n        \"samples\": [\n          false\n        ],\n        \"semantic_type\": \"\",\n        \"description\": \"\"\n      }\n    },\n    {\n      \"column\": \"problem_description\",\n      \"properties\": {\n        \"dtype\": \"string\",\n        \"num_unique_values\": 8,\n        \"samples\": [\n          \"There is a 1-based binary matrix where 0 represents land and 1 represents water. You are given integers row and col representing the number of rows and columns in the matrix, respectively.\\nInitially on day 0, the entire matrix is land. However, each day a new cell becomes flooded with water. You are given a 1-based 2D array cells, where cells[i] = [ri, ci] represents that on the ith day, the cell on the rith row and cith column (1-based coordinates) will be covered with water (i.e., changed to 1).\\nYou want to find the last day that it is possible to walk from the top to the bottom by only walking on land cells. You can start from any cell in the top row and end at any cell in the bottom row. You can only travel in the four cardinal directions (left, right, up, and down).\\nReturn the last day where it is possible to walk from the top to the bottom by only walking on land cells.\\n\\u00a0\\nExample 1:\\n\\nInput: row = 2, col = 2, cells = [[1,1],[2,1],[1,2],[2,2]]\\nOutput: 2\\nExplanation: The above image depicts how the matrix changes each day starting from day 0.\\nThe last day where it is possible to cross from top to bottom is on day 2.\\n\\nExample 2:\\n\\nInput: row = 2, col = 2, cells = [[1,1],[1,2],[2,1],[2,2]]\\nOutput: 1\\nExplanation: The above image depicts how the matrix changes each day starting from day 0.\\nThe last day where it is possible to cross from top to bottom is on day 1.\\n\\nExample 3:\\n\\nInput: row = 3, col = 3, cells = [[1,2],[2,1],[3,3],[2,2],[1,1],[1,3],[2,3],[3,2],[3,1]]\\nOutput: 3\\nExplanation: The above image depicts how the matrix changes each day starting from day 0.\\nThe last day where it is possible to cross from top to bottom is on day 3.\\n\\n\\u00a0\\nConstraints:\\n\\n2 <= row, col <= 2 * 104\\n4 <= row * col <= 2 * 104\\ncells.length == row * col\\n1 <= ri <= row\\n1 <= ci <= col\\nAll the values of cells are unique.\\n\\n\"\n        ],\n        \"semantic_type\": \"\",\n        \"description\": \"\"\n      }\n    },\n    {\n      \"column\": \"topic_tags\",\n      \"properties\": {\n        \"dtype\": \"string\",\n        \"num_unique_values\": 8,\n        \"samples\": [\n          \"'Array', 'Binary Search', 'Depth-First Search', 'Breadth-First Search', 'Union Find', 'Matrix'\"\n        ],\n        \"semantic_type\": \"\",\n        \"description\": \"\"\n      }\n    },\n    {\n      \"column\": \"accepted\",\n      \"properties\": {\n        \"dtype\": \"string\",\n        \"num_unique_values\": 8,\n        \"samples\": [\n          \"58.9K\"\n        ],\n        \"semantic_type\": \"\",\n        \"description\": \"\"\n      }\n    },\n    {\n      \"column\": \"submission\",\n      \"properties\": {\n        \"dtype\": \"string\",\n        \"num_unique_values\": 8,\n        \"samples\": [\n          \"95.1K\"\n        ],\n        \"semantic_type\": \"\",\n        \"description\": \"\"\n      }\n    },\n    {\n      \"column\": \"discussion_count\",\n      \"properties\": {\n        \"dtype\": \"string\",\n        \"num_unique_values\": 8,\n        \"samples\": [\n          \"72\"\n        ],\n        \"semantic_type\": \"\",\n        \"description\": \"\"\n      }\n    },\n    {\n      \"column\": \"likes\",\n      \"properties\": {\n        \"dtype\": \"string\",\n        \"num_unique_values\": 8,\n        \"samples\": [\n          \"1.9K\"\n        ],\n        \"semantic_type\": \"\",\n        \"description\": \"\"\n      }\n    },\n    {\n      \"column\": \"similar_questions\",\n      \"properties\": {\n        \"dtype\": \"string\",\n        \"num_unique_values\": 5,\n        \"samples\": [\n          \"'Bricks Falling When Hit', 'Escape the Spreading Fire'\"\n        ],\n        \"semantic_type\": \"\",\n        \"description\": \"\"\n      }\n    }\n  ]\n}"
            }
          },
          "metadata": {},
          "execution_count": 5
        }
      ],
      "source": [
        "# Display a random sample of 10 rows from the DataFrame\n",
        "df.sample(10)"
      ]
    },
    {
      "cell_type": "code",
      "execution_count": 6,
      "id": "e844deeb",
      "metadata": {
        "id": "e844deeb",
        "colab": {
          "base_uri": "https://localhost:8080/"
        },
        "outputId": "55806515-84a3-4ee1-a96c-9467edba5f66"
      },
      "outputs": [
        {
          "output_type": "stream",
          "name": "stdout",
          "text": [
            "<class 'pandas.core.frame.DataFrame'>\n",
            "RangeIndex: 3000 entries, 0 to 2999\n",
            "Data columns (total 13 columns):\n",
            " #   Column               Non-Null Count  Dtype \n",
            "---  ------               --------------  ----- \n",
            " 0   title                3000 non-null   object\n",
            " 1   problem_URL          3000 non-null   object\n",
            " 2   acceptance           3000 non-null   object\n",
            " 3   difficulty           3000 non-null   object\n",
            " 4   solution_URL         3000 non-null   object\n",
            " 5   is_premium           2400 non-null   object\n",
            " 6   problem_description  2400 non-null   object\n",
            " 7   topic_tags           2348 non-null   object\n",
            " 8   accepted             2400 non-null   object\n",
            " 9   submission           2400 non-null   object\n",
            " 10  discussion_count     2400 non-null   object\n",
            " 11  likes                2400 non-null   object\n",
            " 12  similar_questions    1605 non-null   object\n",
            "dtypes: object(13)\n",
            "memory usage: 304.8+ KB\n"
          ]
        }
      ],
      "source": [
        "# Display concise information about the DataFrame, including the data types and memory usage\n",
        "df.info()"
      ]
    },
    {
      "cell_type": "code",
      "execution_count": 7,
      "id": "8593cafc",
      "metadata": {
        "id": "8593cafc",
        "colab": {
          "base_uri": "https://localhost:8080/"
        },
        "outputId": "a98cbec5-de5e-49e2-9b5c-246f90b6ce84"
      },
      "outputs": [
        {
          "output_type": "execute_result",
          "data": {
            "text/plain": [
              "0"
            ]
          },
          "metadata": {},
          "execution_count": 7
        }
      ],
      "source": [
        "# Count the number of duplicated rows in the DataFrame\n",
        "df.duplicated().sum()"
      ]
    },
    {
      "cell_type": "code",
      "execution_count": 8,
      "id": "44db1600",
      "metadata": {
        "id": "44db1600",
        "colab": {
          "base_uri": "https://localhost:8080/",
          "height": 492
        },
        "outputId": "434d5653-64f9-448f-dd0e-f1463cd7385b"
      },
      "outputs": [
        {
          "output_type": "execute_result",
          "data": {
            "text/plain": [
              "title                     0\n",
              "problem_URL               0\n",
              "acceptance                0\n",
              "difficulty                0\n",
              "solution_URL              0\n",
              "is_premium              600\n",
              "problem_description     600\n",
              "topic_tags              652\n",
              "accepted                600\n",
              "submission              600\n",
              "discussion_count        600\n",
              "likes                   600\n",
              "similar_questions      1395\n",
              "dtype: int64"
            ],
            "text/html": [
              "<div>\n",
              "<style scoped>\n",
              "    .dataframe tbody tr th:only-of-type {\n",
              "        vertical-align: middle;\n",
              "    }\n",
              "\n",
              "    .dataframe tbody tr th {\n",
              "        vertical-align: top;\n",
              "    }\n",
              "\n",
              "    .dataframe thead th {\n",
              "        text-align: right;\n",
              "    }\n",
              "</style>\n",
              "<table border=\"1\" class=\"dataframe\">\n",
              "  <thead>\n",
              "    <tr style=\"text-align: right;\">\n",
              "      <th></th>\n",
              "      <th>0</th>\n",
              "    </tr>\n",
              "  </thead>\n",
              "  <tbody>\n",
              "    <tr>\n",
              "      <th>title</th>\n",
              "      <td>0</td>\n",
              "    </tr>\n",
              "    <tr>\n",
              "      <th>problem_URL</th>\n",
              "      <td>0</td>\n",
              "    </tr>\n",
              "    <tr>\n",
              "      <th>acceptance</th>\n",
              "      <td>0</td>\n",
              "    </tr>\n",
              "    <tr>\n",
              "      <th>difficulty</th>\n",
              "      <td>0</td>\n",
              "    </tr>\n",
              "    <tr>\n",
              "      <th>solution_URL</th>\n",
              "      <td>0</td>\n",
              "    </tr>\n",
              "    <tr>\n",
              "      <th>is_premium</th>\n",
              "      <td>600</td>\n",
              "    </tr>\n",
              "    <tr>\n",
              "      <th>problem_description</th>\n",
              "      <td>600</td>\n",
              "    </tr>\n",
              "    <tr>\n",
              "      <th>topic_tags</th>\n",
              "      <td>652</td>\n",
              "    </tr>\n",
              "    <tr>\n",
              "      <th>accepted</th>\n",
              "      <td>600</td>\n",
              "    </tr>\n",
              "    <tr>\n",
              "      <th>submission</th>\n",
              "      <td>600</td>\n",
              "    </tr>\n",
              "    <tr>\n",
              "      <th>discussion_count</th>\n",
              "      <td>600</td>\n",
              "    </tr>\n",
              "    <tr>\n",
              "      <th>likes</th>\n",
              "      <td>600</td>\n",
              "    </tr>\n",
              "    <tr>\n",
              "      <th>similar_questions</th>\n",
              "      <td>1395</td>\n",
              "    </tr>\n",
              "  </tbody>\n",
              "</table>\n",
              "</div><br><label><b>dtype:</b> int64</label>"
            ]
          },
          "metadata": {},
          "execution_count": 8
        }
      ],
      "source": [
        "# Count the number of missing values in each column of the DataFrame\n",
        "df.isnull().sum()"
      ]
    },
    {
      "cell_type": "markdown",
      "id": "2e0ef342",
      "metadata": {
        "id": "2e0ef342"
      },
      "source": [
        "- We have data of 3000 LeetCode problems.\n",
        "- Out of these, 600 are premium problems, so we lack additional data for them.\n",
        "- There are 652 null values in the `topic_tags` column. This is because 600 premium problems and other 52 null values indicate that the topic tags information is not scrape.\n",
        "- In the `similar_questions` column, there are 1,395 null values. This is because 600 premium problems and other 795 null values indicate that similar questions is not available in the leetcode website."
      ]
    },
    {
      "cell_type": "markdown",
      "id": "d8b52b67",
      "metadata": {
        "id": "d8b52b67"
      },
      "source": [
        "<center> <h2> Handling Missing Values </h2> </center>"
      ]
    },
    {
      "cell_type": "markdown",
      "id": "7cb7fecc",
      "metadata": {
        "id": "7cb7fecc"
      },
      "source": [
        "> <p style=\"color:red\"> Note: We lack information regarding premium questions. </p>"
      ]
    },
    {
      "cell_type": "markdown",
      "id": "fd9a9965",
      "metadata": {
        "id": "fd9a9965"
      },
      "source": [
        "### `is_premium`"
      ]
    },
    {
      "cell_type": "markdown",
      "id": "713ee8be",
      "metadata": {
        "id": "713ee8be"
      },
      "source": [
        "- Handle the missing values in the `is_premium` column by replacing them with the boolean value `True` to accurately denote the premium status."
      ]
    },
    {
      "cell_type": "code",
      "execution_count": 9,
      "id": "e8cd368c",
      "metadata": {
        "id": "e8cd368c",
        "colab": {
          "base_uri": "https://localhost:8080/"
        },
        "outputId": "8ae0c7ef-8712-4c88-d1c8-0d30d959233e"
      },
      "outputs": [
        {
          "output_type": "execute_result",
          "data": {
            "text/plain": [
              "array([False, nan], dtype=object)"
            ]
          },
          "metadata": {},
          "execution_count": 9
        }
      ],
      "source": [
        "# Get the unique values in the `is_premium` column.\n",
        "df['is_premium'].unique()"
      ]
    },
    {
      "cell_type": "code",
      "execution_count": 10,
      "id": "c8d5dcb3",
      "metadata": {
        "id": "c8d5dcb3",
        "colab": {
          "base_uri": "https://localhost:8080/"
        },
        "outputId": "fa1c6e1f-03e8-42fe-a953-e31661fde5e9"
      },
      "outputs": [
        {
          "output_type": "execute_result",
          "data": {
            "text/plain": [
              "600"
            ]
          },
          "metadata": {},
          "execution_count": 10
        }
      ],
      "source": [
        "#  Check the number of missing values in the `is_premium` column.\n",
        "df['is_premium'].isnull().sum()"
      ]
    },
    {
      "cell_type": "code",
      "execution_count": 11,
      "id": "917c51cd",
      "metadata": {
        "id": "917c51cd"
      },
      "outputs": [],
      "source": [
        "# Replace all missing values in the `is_premium` column with `True`.\n",
        "df['is_premium'].fillna(True, inplace=True)"
      ]
    },
    {
      "cell_type": "code",
      "execution_count": 12,
      "id": "a7e3de44",
      "metadata": {
        "id": "a7e3de44",
        "colab": {
          "base_uri": "https://localhost:8080/",
          "height": 178
        },
        "outputId": "52fa789e-df38-4113-d5d6-981206b7bb1a"
      },
      "outputs": [
        {
          "output_type": "execute_result",
          "data": {
            "text/plain": [
              "is_premium\n",
              "False    2400\n",
              "True      600\n",
              "Name: count, dtype: int64"
            ],
            "text/html": [
              "<div>\n",
              "<style scoped>\n",
              "    .dataframe tbody tr th:only-of-type {\n",
              "        vertical-align: middle;\n",
              "    }\n",
              "\n",
              "    .dataframe tbody tr th {\n",
              "        vertical-align: top;\n",
              "    }\n",
              "\n",
              "    .dataframe thead th {\n",
              "        text-align: right;\n",
              "    }\n",
              "</style>\n",
              "<table border=\"1\" class=\"dataframe\">\n",
              "  <thead>\n",
              "    <tr style=\"text-align: right;\">\n",
              "      <th></th>\n",
              "      <th>count</th>\n",
              "    </tr>\n",
              "    <tr>\n",
              "      <th>is_premium</th>\n",
              "      <th></th>\n",
              "    </tr>\n",
              "  </thead>\n",
              "  <tbody>\n",
              "    <tr>\n",
              "      <th>False</th>\n",
              "      <td>2400</td>\n",
              "    </tr>\n",
              "    <tr>\n",
              "      <th>True</th>\n",
              "      <td>600</td>\n",
              "    </tr>\n",
              "  </tbody>\n",
              "</table>\n",
              "</div><br><label><b>dtype:</b> int64</label>"
            ]
          },
          "metadata": {},
          "execution_count": 12
        }
      ],
      "source": [
        "# Get the number of premium and non-premium questions in the DataFrame.\n",
        "df['is_premium'].value_counts()"
      ]
    },
    {
      "cell_type": "code",
      "execution_count": 13,
      "id": "96e346a5",
      "metadata": {
        "id": "96e346a5",
        "colab": {
          "base_uri": "https://localhost:8080/"
        },
        "outputId": "dee464ed-5330-40ba-b356-11b11bdf3acd"
      },
      "outputs": [
        {
          "output_type": "execute_result",
          "data": {
            "text/plain": [
              "dtype('bool')"
            ]
          },
          "metadata": {},
          "execution_count": 13
        }
      ],
      "source": [
        "# Get the data type of the 'is_premium' column.\n",
        "df['is_premium'].dtype"
      ]
    },
    {
      "cell_type": "markdown",
      "id": "7e764c64",
      "metadata": {
        "id": "7e764c64"
      },
      "source": [
        "### `topic_tags`"
      ]
    },
    {
      "cell_type": "markdown",
      "id": "8f5e21be",
      "metadata": {
        "id": "8f5e21be"
      },
      "source": [
        "- Fill the null values with the appropriate values, namely \"JavaScript\" and \"pandas\"."
      ]
    },
    {
      "cell_type": "code",
      "execution_count": 14,
      "id": "a6999bc1",
      "metadata": {
        "id": "a6999bc1",
        "colab": {
          "base_uri": "https://localhost:8080/"
        },
        "outputId": "1bb47d3c-ef4d-4219-8035-cdf6198964f2"
      },
      "outputs": [
        {
          "output_type": "execute_result",
          "data": {
            "text/plain": [
              "652"
            ]
          },
          "metadata": {},
          "execution_count": 14
        }
      ],
      "source": [
        "#  Check the number of missing values in the `topic_tags` column.\n",
        "df['topic_tags'].isnull().sum()"
      ]
    },
    {
      "cell_type": "code",
      "execution_count": 15,
      "id": "e3d60fcc",
      "metadata": {
        "id": "e3d60fcc"
      },
      "outputs": [],
      "source": [
        "# The `selected_ids` list contains a set of LeetCode question IDs\n",
        "# that are all related to JavaScript\n",
        "# Number of `selected_ids` is 37\n",
        "selected_ids = [2693, 2694, 2695, 2703, 2704, 2705, 2715, 2721, 2722, 2723, 2724,\n",
        "2725, 2726, 2727, 2618, 2619, 2620, 2621, 2622, 2623, 2624, 2625, 2626,\n",
        "2627, 2629, 2630, 2631, 2634, 2635, 2637, 2648, 2649, 2650, 2665, 2666, 2667, 2677]"
      ]
    },
    {
      "cell_type": "code",
      "execution_count": 16,
      "id": "06a83d5e",
      "metadata": {
        "id": "06a83d5e"
      },
      "outputs": [],
      "source": [
        "# Assign \"JavaScript\" topic tag to rows where title starts with selected IDs.\n",
        "df.loc[df['title'].str.split('.').apply(lambda x: x[0]).astype('int').isin(selected_ids), 'topic_tags'] = \"JavaScript\""
      ]
    },
    {
      "cell_type": "code",
      "execution_count": 17,
      "id": "297b451c",
      "metadata": {
        "id": "297b451c"
      },
      "outputs": [],
      "source": [
        "# The `selected_ids` list contains a set of LeetCode question IDs\n",
        "# that are all related to Pandas\n",
        "# Number of `selected_ids` is 15\n",
        "selected_ids = [2877, 2878, 2879, 2880, 2881, 2882, 2883, 2884, 2885, 2886, 2887,\n",
        "2888, 2889, 2890, 2891]"
      ]
    },
    {
      "cell_type": "code",
      "execution_count": 18,
      "id": "93607857",
      "metadata": {
        "id": "93607857"
      },
      "outputs": [],
      "source": [
        "# Assign \"Pandas\" topic tag to rows where title starts with selected IDs.\n",
        "df.loc[df['title'].str.split('.').apply(lambda x: x[0]).astype('int').isin(selected_ids), 'topic_tags'] = \"Pandas\""
      ]
    },
    {
      "cell_type": "markdown",
      "id": "9c98539a",
      "metadata": {
        "id": "9c98539a"
      },
      "source": [
        "### `similar_questions`"
      ]
    },
    {
      "cell_type": "markdown",
      "id": "390cc213",
      "metadata": {
        "id": "390cc213"
      },
      "source": [
        "- Fill in the null values for non-premium questions with an empty string, as there are no similar questions for those LeetCode problems."
      ]
    },
    {
      "cell_type": "code",
      "execution_count": 20,
      "id": "9202e027",
      "metadata": {
        "id": "9202e027",
        "colab": {
          "base_uri": "https://localhost:8080/"
        },
        "outputId": "2a0a316b-b528-4ae1-84a5-d16d7e9bd097"
      },
      "outputs": [
        {
          "output_type": "execute_result",
          "data": {
            "text/plain": [
              "1395"
            ]
          },
          "metadata": {},
          "execution_count": 20
        }
      ],
      "source": [
        "# Count the number of null values in the 'similar_questions'\n",
        "df['similar_questions'].isnull().sum()"
      ]
    },
    {
      "cell_type": "code",
      "execution_count": 21,
      "id": "75d267ab",
      "metadata": {
        "id": "75d267ab"
      },
      "outputs": [],
      "source": [
        "# Set an empty string for 'similar_questions' where 'is_premium' is False and 'similar_questions' is null\n",
        "df.loc[(df['is_premium'] == False) & df['similar_questions'].isnull(), 'similar_questions'] = ''"
      ]
    },
    {
      "cell_type": "code",
      "execution_count": 22,
      "id": "02dd80ba",
      "metadata": {
        "id": "02dd80ba",
        "colab": {
          "base_uri": "https://localhost:8080/"
        },
        "outputId": "15f1a4d0-85f3-438b-f9c9-4a9bb484c0b9"
      },
      "outputs": [
        {
          "output_type": "execute_result",
          "data": {
            "text/plain": [
              "600"
            ]
          },
          "metadata": {},
          "execution_count": 22
        }
      ],
      "source": [
        "# Count the number of null values in the 'similar_questions'\n",
        "df['similar_questions'].isnull().sum()"
      ]
    },
    {
      "cell_type": "markdown",
      "id": "4dc9d533",
      "metadata": {
        "id": "4dc9d533"
      },
      "source": [
        "> **We handle all missing values for non-premium questions.**"
      ]
    },
    {
      "cell_type": "markdown",
      "id": "ed5af61b",
      "metadata": {
        "id": "ed5af61b"
      },
      "source": [
        "<center> <h2> Feature Engineering </h2> </center>"
      ]
    },
    {
      "cell_type": "markdown",
      "id": "cf4d125a",
      "metadata": {
        "id": "cf4d125a"
      },
      "source": [
        "### `title`"
      ]
    },
    {
      "cell_type": "markdown",
      "id": "a06848be",
      "metadata": {
        "id": "a06848be"
      },
      "source": [
        "- We are extracting the problem numbers (IDs) from the `title`, which can be useful for organizing and analyzing the data."
      ]
    },
    {
      "cell_type": "code",
      "execution_count": 24,
      "id": "1b120dfb",
      "metadata": {
        "id": "1b120dfb",
        "colab": {
          "base_uri": "https://localhost:8080/",
          "height": 458
        },
        "outputId": "8dbbe0a8-100d-4bdc-a4bc-1cbe71fd5b95"
      },
      "outputs": [
        {
          "output_type": "execute_result",
          "data": {
            "text/plain": [
              "0                                              1. Two Sum\n",
              "1                                      2. Add Two Numbers\n",
              "2       3. Longest Substring Without Repeating Characters\n",
              "3                          4. Median of Two Sorted Arrays\n",
              "4                        5. Longest Palindromic Substring\n",
              "                              ...                        \n",
              "2995    2996. Smallest Missing Integer Greater Than Se...\n",
              "2996    2997. Minimum Number of Operations to Make Arr...\n",
              "2997    2998. Minimum Number of Operations to Make X a...\n",
              "2998          2999. Count the Number of Powerful Integers\n",
              "2999     3000. Maximum Area of Longest Diagonal Rectangle\n",
              "Name: title, Length: 3000, dtype: object"
            ],
            "text/html": [
              "<div>\n",
              "<style scoped>\n",
              "    .dataframe tbody tr th:only-of-type {\n",
              "        vertical-align: middle;\n",
              "    }\n",
              "\n",
              "    .dataframe tbody tr th {\n",
              "        vertical-align: top;\n",
              "    }\n",
              "\n",
              "    .dataframe thead th {\n",
              "        text-align: right;\n",
              "    }\n",
              "</style>\n",
              "<table border=\"1\" class=\"dataframe\">\n",
              "  <thead>\n",
              "    <tr style=\"text-align: right;\">\n",
              "      <th></th>\n",
              "      <th>title</th>\n",
              "    </tr>\n",
              "  </thead>\n",
              "  <tbody>\n",
              "    <tr>\n",
              "      <th>0</th>\n",
              "      <td>1. Two Sum</td>\n",
              "    </tr>\n",
              "    <tr>\n",
              "      <th>1</th>\n",
              "      <td>2. Add Two Numbers</td>\n",
              "    </tr>\n",
              "    <tr>\n",
              "      <th>2</th>\n",
              "      <td>3. Longest Substring Without Repeating Characters</td>\n",
              "    </tr>\n",
              "    <tr>\n",
              "      <th>3</th>\n",
              "      <td>4. Median of Two Sorted Arrays</td>\n",
              "    </tr>\n",
              "    <tr>\n",
              "      <th>4</th>\n",
              "      <td>5. Longest Palindromic Substring</td>\n",
              "    </tr>\n",
              "    <tr>\n",
              "      <th>...</th>\n",
              "      <td>...</td>\n",
              "    </tr>\n",
              "    <tr>\n",
              "      <th>2995</th>\n",
              "      <td>2996. Smallest Missing Integer Greater Than Se...</td>\n",
              "    </tr>\n",
              "    <tr>\n",
              "      <th>2996</th>\n",
              "      <td>2997. Minimum Number of Operations to Make Arr...</td>\n",
              "    </tr>\n",
              "    <tr>\n",
              "      <th>2997</th>\n",
              "      <td>2998. Minimum Number of Operations to Make X a...</td>\n",
              "    </tr>\n",
              "    <tr>\n",
              "      <th>2998</th>\n",
              "      <td>2999. Count the Number of Powerful Integers</td>\n",
              "    </tr>\n",
              "    <tr>\n",
              "      <th>2999</th>\n",
              "      <td>3000. Maximum Area of Longest Diagonal Rectangle</td>\n",
              "    </tr>\n",
              "  </tbody>\n",
              "</table>\n",
              "<p>3000 rows × 1 columns</p>\n",
              "</div><br><label><b>dtype:</b> object</label>"
            ]
          },
          "metadata": {},
          "execution_count": 24
        }
      ],
      "source": [
        "# Retrieve the 'title' column\n",
        "df['title']"
      ]
    },
    {
      "cell_type": "code",
      "execution_count": 25,
      "id": "d8877c76",
      "metadata": {
        "id": "d8877c76",
        "colab": {
          "base_uri": "https://localhost:8080/",
          "height": 458
        },
        "outputId": "2bba273a-ae92-4d1a-a676-9176699c409a"
      },
      "outputs": [
        {
          "output_type": "execute_result",
          "data": {
            "text/plain": [
              "0          1\n",
              "1          2\n",
              "2          3\n",
              "3          4\n",
              "4          5\n",
              "        ... \n",
              "2995    2996\n",
              "2996    2997\n",
              "2997    2998\n",
              "2998    2999\n",
              "2999    3000\n",
              "Name: title, Length: 3000, dtype: int64"
            ],
            "text/html": [
              "<div>\n",
              "<style scoped>\n",
              "    .dataframe tbody tr th:only-of-type {\n",
              "        vertical-align: middle;\n",
              "    }\n",
              "\n",
              "    .dataframe tbody tr th {\n",
              "        vertical-align: top;\n",
              "    }\n",
              "\n",
              "    .dataframe thead th {\n",
              "        text-align: right;\n",
              "    }\n",
              "</style>\n",
              "<table border=\"1\" class=\"dataframe\">\n",
              "  <thead>\n",
              "    <tr style=\"text-align: right;\">\n",
              "      <th></th>\n",
              "      <th>title</th>\n",
              "    </tr>\n",
              "  </thead>\n",
              "  <tbody>\n",
              "    <tr>\n",
              "      <th>0</th>\n",
              "      <td>1</td>\n",
              "    </tr>\n",
              "    <tr>\n",
              "      <th>1</th>\n",
              "      <td>2</td>\n",
              "    </tr>\n",
              "    <tr>\n",
              "      <th>2</th>\n",
              "      <td>3</td>\n",
              "    </tr>\n",
              "    <tr>\n",
              "      <th>3</th>\n",
              "      <td>4</td>\n",
              "    </tr>\n",
              "    <tr>\n",
              "      <th>4</th>\n",
              "      <td>5</td>\n",
              "    </tr>\n",
              "    <tr>\n",
              "      <th>...</th>\n",
              "      <td>...</td>\n",
              "    </tr>\n",
              "    <tr>\n",
              "      <th>2995</th>\n",
              "      <td>2996</td>\n",
              "    </tr>\n",
              "    <tr>\n",
              "      <th>2996</th>\n",
              "      <td>2997</td>\n",
              "    </tr>\n",
              "    <tr>\n",
              "      <th>2997</th>\n",
              "      <td>2998</td>\n",
              "    </tr>\n",
              "    <tr>\n",
              "      <th>2998</th>\n",
              "      <td>2999</td>\n",
              "    </tr>\n",
              "    <tr>\n",
              "      <th>2999</th>\n",
              "      <td>3000</td>\n",
              "    </tr>\n",
              "  </tbody>\n",
              "</table>\n",
              "<p>3000 rows × 1 columns</p>\n",
              "</div><br><label><b>dtype:</b> int64</label>"
            ]
          },
          "metadata": {},
          "execution_count": 25
        }
      ],
      "source": [
        "# Extract the numerical part from the 'title' column by\n",
        "# splitting at '.' and converting to integers\n",
        "df['title'].str.split('.').apply(lambda x: x[0]).astype('int')"
      ]
    },
    {
      "cell_type": "code",
      "execution_count": 26,
      "id": "c9f83e20",
      "metadata": {
        "id": "c9f83e20"
      },
      "outputs": [],
      "source": [
        "# Extract numeric values from 'title' column, convert to integers,\n",
        "# and assign to a new 'id' column\n",
        "df['id'] = df['title'].str.split('.').apply(lambda x: x[0]).astype('int')"
      ]
    },
    {
      "cell_type": "markdown",
      "id": "0a79f01d",
      "metadata": {
        "id": "0a79f01d"
      },
      "source": [
        "### `page_number`"
      ]
    },
    {
      "cell_type": "markdown",
      "id": "2007686c",
      "metadata": {
        "id": "2007686c"
      },
      "source": [
        "- page_number: Number of web pages ranges from 1 to 60. per page contains 50 problems, total 3000 problems."
      ]
    },
    {
      "cell_type": "code",
      "execution_count": 27,
      "id": "e1788460",
      "metadata": {
        "id": "e1788460"
      },
      "outputs": [],
      "source": [
        "df['page_number'] = pd.cut(df['id'], bins=range(1, 3002, 50), include_lowest=True, right=False).apply(lambda x: (x.left//50)+1)"
      ]
    },
    {
      "cell_type": "markdown",
      "id": "2f9279e8",
      "metadata": {
        "id": "2f9279e8"
      },
      "source": [
        "### `similar_questions`"
      ]
    },
    {
      "cell_type": "markdown",
      "id": "097bb8a0",
      "metadata": {
        "id": "097bb8a0"
      },
      "source": [
        "- **string splitting** on `similar_question`\n",
        "- We are extracting a numerical feature from the `similar_questions` column that represents the number of similar questions `no_similar_questions`."
      ]
    },
    {
      "cell_type": "code",
      "execution_count": 28,
      "id": "82ba55d2",
      "metadata": {
        "id": "82ba55d2",
        "colab": {
          "base_uri": "https://localhost:8080/",
          "height": 458
        },
        "outputId": "b59e742f-cce6-4e3e-f1f4-4e332a442fe8"
      },
      "outputs": [
        {
          "output_type": "execute_result",
          "data": {
            "text/plain": [
              "0       '3Sum', '4Sum', 'Two Sum II - Input Array Is S...\n",
              "1       'Multiply Strings', 'Add Binary', 'Sum of Two ...\n",
              "2       'Longest Substring with At Most Two Distinct C...\n",
              "3                    'Median of a Row Wise Sorted Matrix'\n",
              "4       'Shortest Palindrome', 'Palindrome Permutation...\n",
              "                              ...                        \n",
              "2995    'Longest Common Prefix', 'First Missing Positi...\n",
              "2996                'Minimum Bit Flips to Convert Number'\n",
              "2997    'Shortest Bridge', 'Minimum Moves to Spread St...\n",
              "2998    'Powerful Integers', 'Numbers With Repeated Di...\n",
              "2999                                                     \n",
              "Name: similar_questions, Length: 3000, dtype: object"
            ],
            "text/html": [
              "<div>\n",
              "<style scoped>\n",
              "    .dataframe tbody tr th:only-of-type {\n",
              "        vertical-align: middle;\n",
              "    }\n",
              "\n",
              "    .dataframe tbody tr th {\n",
              "        vertical-align: top;\n",
              "    }\n",
              "\n",
              "    .dataframe thead th {\n",
              "        text-align: right;\n",
              "    }\n",
              "</style>\n",
              "<table border=\"1\" class=\"dataframe\">\n",
              "  <thead>\n",
              "    <tr style=\"text-align: right;\">\n",
              "      <th></th>\n",
              "      <th>similar_questions</th>\n",
              "    </tr>\n",
              "  </thead>\n",
              "  <tbody>\n",
              "    <tr>\n",
              "      <th>0</th>\n",
              "      <td>'3Sum', '4Sum', 'Two Sum II - Input Array Is S...</td>\n",
              "    </tr>\n",
              "    <tr>\n",
              "      <th>1</th>\n",
              "      <td>'Multiply Strings', 'Add Binary', 'Sum of Two ...</td>\n",
              "    </tr>\n",
              "    <tr>\n",
              "      <th>2</th>\n",
              "      <td>'Longest Substring with At Most Two Distinct C...</td>\n",
              "    </tr>\n",
              "    <tr>\n",
              "      <th>3</th>\n",
              "      <td>'Median of a Row Wise Sorted Matrix'</td>\n",
              "    </tr>\n",
              "    <tr>\n",
              "      <th>4</th>\n",
              "      <td>'Shortest Palindrome', 'Palindrome Permutation...</td>\n",
              "    </tr>\n",
              "    <tr>\n",
              "      <th>...</th>\n",
              "      <td>...</td>\n",
              "    </tr>\n",
              "    <tr>\n",
              "      <th>2995</th>\n",
              "      <td>'Longest Common Prefix', 'First Missing Positi...</td>\n",
              "    </tr>\n",
              "    <tr>\n",
              "      <th>2996</th>\n",
              "      <td>'Minimum Bit Flips to Convert Number'</td>\n",
              "    </tr>\n",
              "    <tr>\n",
              "      <th>2997</th>\n",
              "      <td>'Shortest Bridge', 'Minimum Moves to Spread St...</td>\n",
              "    </tr>\n",
              "    <tr>\n",
              "      <th>2998</th>\n",
              "      <td>'Powerful Integers', 'Numbers With Repeated Di...</td>\n",
              "    </tr>\n",
              "    <tr>\n",
              "      <th>2999</th>\n",
              "      <td></td>\n",
              "    </tr>\n",
              "  </tbody>\n",
              "</table>\n",
              "<p>3000 rows × 1 columns</p>\n",
              "</div><br><label><b>dtype:</b> object</label>"
            ]
          },
          "metadata": {},
          "execution_count": 28
        }
      ],
      "source": [
        "# Retrieve the 'similar_questions' column\n",
        "df['similar_questions']"
      ]
    },
    {
      "cell_type": "code",
      "execution_count": 29,
      "id": "a8d0d028",
      "metadata": {
        "id": "a8d0d028",
        "colab": {
          "base_uri": "https://localhost:8080/",
          "height": 458
        },
        "outputId": "8dfadf45-65de-49cd-ab68-ee924516472d"
      },
      "outputs": [
        {
          "output_type": "execute_result",
          "data": {
            "text/plain": [
              "0       ['3Sum', '4Sum', 'Two Sum II - Input Array Is ...\n",
              "1       ['Multiply Strings', 'Add Binary', 'Sum of Two...\n",
              "2       ['Longest Substring with At Most Two Distinct ...\n",
              "3                  ['Median of a Row Wise Sorted Matrix']\n",
              "4       ['Shortest Palindrome', 'Palindrome Permutatio...\n",
              "                              ...                        \n",
              "2995    ['Longest Common Prefix', 'First Missing Posit...\n",
              "2996              ['Minimum Bit Flips to Convert Number']\n",
              "2997    ['Shortest Bridge', 'Minimum Moves to Spread S...\n",
              "2998    ['Powerful Integers', 'Numbers With Repeated D...\n",
              "2999                                                   []\n",
              "Name: similar_questions, Length: 3000, dtype: object"
            ],
            "text/html": [
              "<div>\n",
              "<style scoped>\n",
              "    .dataframe tbody tr th:only-of-type {\n",
              "        vertical-align: middle;\n",
              "    }\n",
              "\n",
              "    .dataframe tbody tr th {\n",
              "        vertical-align: top;\n",
              "    }\n",
              "\n",
              "    .dataframe thead th {\n",
              "        text-align: right;\n",
              "    }\n",
              "</style>\n",
              "<table border=\"1\" class=\"dataframe\">\n",
              "  <thead>\n",
              "    <tr style=\"text-align: right;\">\n",
              "      <th></th>\n",
              "      <th>similar_questions</th>\n",
              "    </tr>\n",
              "  </thead>\n",
              "  <tbody>\n",
              "    <tr>\n",
              "      <th>0</th>\n",
              "      <td>['3Sum', '4Sum', 'Two Sum II - Input Array Is ...</td>\n",
              "    </tr>\n",
              "    <tr>\n",
              "      <th>1</th>\n",
              "      <td>['Multiply Strings', 'Add Binary', 'Sum of Two...</td>\n",
              "    </tr>\n",
              "    <tr>\n",
              "      <th>2</th>\n",
              "      <td>['Longest Substring with At Most Two Distinct ...</td>\n",
              "    </tr>\n",
              "    <tr>\n",
              "      <th>3</th>\n",
              "      <td>['Median of a Row Wise Sorted Matrix']</td>\n",
              "    </tr>\n",
              "    <tr>\n",
              "      <th>4</th>\n",
              "      <td>['Shortest Palindrome', 'Palindrome Permutatio...</td>\n",
              "    </tr>\n",
              "    <tr>\n",
              "      <th>...</th>\n",
              "      <td>...</td>\n",
              "    </tr>\n",
              "    <tr>\n",
              "      <th>2995</th>\n",
              "      <td>['Longest Common Prefix', 'First Missing Posit...</td>\n",
              "    </tr>\n",
              "    <tr>\n",
              "      <th>2996</th>\n",
              "      <td>['Minimum Bit Flips to Convert Number']</td>\n",
              "    </tr>\n",
              "    <tr>\n",
              "      <th>2997</th>\n",
              "      <td>['Shortest Bridge', 'Minimum Moves to Spread S...</td>\n",
              "    </tr>\n",
              "    <tr>\n",
              "      <th>2998</th>\n",
              "      <td>['Powerful Integers', 'Numbers With Repeated D...</td>\n",
              "    </tr>\n",
              "    <tr>\n",
              "      <th>2999</th>\n",
              "      <td>[]</td>\n",
              "    </tr>\n",
              "  </tbody>\n",
              "</table>\n",
              "<p>3000 rows × 1 columns</p>\n",
              "</div><br><label><b>dtype:</b> object</label>"
            ]
          },
          "metadata": {},
          "execution_count": 29
        }
      ],
      "source": [
        "# Performing string manipulation on the 'similar_questions' column in the DataFrame 'df':\n",
        "# Removing single quotes and then splitting the string into a list using ', ' as the delimiter.\n",
        "df['similar_questions'].str.split(\", \")"
      ]
    },
    {
      "cell_type": "code",
      "execution_count": 30,
      "id": "7a0dcdf8",
      "metadata": {
        "id": "7a0dcdf8"
      },
      "outputs": [],
      "source": [
        "# Removing single quotes from the 'similar_questions' column in the DataFrame 'df'\n",
        "# and then splitting the string into a list using ', ' as the delimiter.\n",
        "df['similar_questions'] = df['similar_questions'].str.split(\", \")"
      ]
    },
    {
      "cell_type": "code",
      "execution_count": 31,
      "id": "4a6e3108",
      "metadata": {
        "id": "4a6e3108",
        "colab": {
          "base_uri": "https://localhost:8080/",
          "height": 458
        },
        "outputId": "80029cef-8b19-4633-d72b-18565bee9183"
      },
      "outputs": [
        {
          "output_type": "execute_result",
          "data": {
            "text/plain": [
              "0       21\n",
              "1        8\n",
              "2       11\n",
              "3        1\n",
              "4        6\n",
              "        ..\n",
              "2995     3\n",
              "2996     1\n",
              "2997     2\n",
              "2998     2\n",
              "2999     0\n",
              "Name: similar_questions, Length: 3000, dtype: int64"
            ],
            "text/html": [
              "<div>\n",
              "<style scoped>\n",
              "    .dataframe tbody tr th:only-of-type {\n",
              "        vertical-align: middle;\n",
              "    }\n",
              "\n",
              "    .dataframe tbody tr th {\n",
              "        vertical-align: top;\n",
              "    }\n",
              "\n",
              "    .dataframe thead th {\n",
              "        text-align: right;\n",
              "    }\n",
              "</style>\n",
              "<table border=\"1\" class=\"dataframe\">\n",
              "  <thead>\n",
              "    <tr style=\"text-align: right;\">\n",
              "      <th></th>\n",
              "      <th>similar_questions</th>\n",
              "    </tr>\n",
              "  </thead>\n",
              "  <tbody>\n",
              "    <tr>\n",
              "      <th>0</th>\n",
              "      <td>21</td>\n",
              "    </tr>\n",
              "    <tr>\n",
              "      <th>1</th>\n",
              "      <td>8</td>\n",
              "    </tr>\n",
              "    <tr>\n",
              "      <th>2</th>\n",
              "      <td>11</td>\n",
              "    </tr>\n",
              "    <tr>\n",
              "      <th>3</th>\n",
              "      <td>1</td>\n",
              "    </tr>\n",
              "    <tr>\n",
              "      <th>4</th>\n",
              "      <td>6</td>\n",
              "    </tr>\n",
              "    <tr>\n",
              "      <th>...</th>\n",
              "      <td>...</td>\n",
              "    </tr>\n",
              "    <tr>\n",
              "      <th>2995</th>\n",
              "      <td>3</td>\n",
              "    </tr>\n",
              "    <tr>\n",
              "      <th>2996</th>\n",
              "      <td>1</td>\n",
              "    </tr>\n",
              "    <tr>\n",
              "      <th>2997</th>\n",
              "      <td>2</td>\n",
              "    </tr>\n",
              "    <tr>\n",
              "      <th>2998</th>\n",
              "      <td>2</td>\n",
              "    </tr>\n",
              "    <tr>\n",
              "      <th>2999</th>\n",
              "      <td>0</td>\n",
              "    </tr>\n",
              "  </tbody>\n",
              "</table>\n",
              "<p>3000 rows × 1 columns</p>\n",
              "</div><br><label><b>dtype:</b> int64</label>"
            ]
          },
          "metadata": {},
          "execution_count": 31
        }
      ],
      "source": [
        "# Applying a lambda function to the 'similar_questions' column in the DataFrame 'df':\n",
        "# Counting the number of elements in each list (if it is a list and the first element is not an empty string), otherwise returning 0.\n",
        "df['similar_questions'].apply(lambda x: len(x) if isinstance(x,list) and x[0]!='' else 0)"
      ]
    },
    {
      "cell_type": "code",
      "execution_count": 32,
      "id": "4119e916",
      "metadata": {
        "id": "4119e916"
      },
      "outputs": [],
      "source": [
        "# Creating a new column 'no_similar_questions' in the DataFrame 'df':\n",
        "# Assigning the count of elements in each list from the 'similar_questions' column, or 0 if it's not a list.\n",
        "df['no_similar_questions'] = df['similar_questions'].apply(lambda x: len(x) if isinstance(x,list) and x!=[''] else 0)"
      ]
    },
    {
      "cell_type": "code",
      "execution_count": 33,
      "id": "6aea0f8a",
      "metadata": {
        "id": "6aea0f8a"
      },
      "outputs": [],
      "source": [
        "# Setting 'no_similar_questions' to pd.NA for rows where 'is_premium' is True\n",
        "# and 'no_similar_questions' is 0.\n",
        "df.loc[(df['is_premium'] == True) & (df['no_similar_questions'] == 0), 'no_similar_questions'] = pd.NA"
      ]
    },
    {
      "cell_type": "markdown",
      "id": "f0326059",
      "metadata": {
        "id": "f0326059"
      },
      "source": [
        "> **We have introduced several new features, including `no_similar_questions` for number of similar questions, an `id` attribute for unique identification & `page_number` denotes the specific page on the website where the LeetCode problem appears.**"
      ]
    },
    {
      "cell_type": "markdown",
      "id": "2b481aa2",
      "metadata": {
        "id": "2b481aa2"
      },
      "source": [
        "<center> <h2> Data Format Conversion and Data Type Conversion </h2> </center>"
      ]
    },
    {
      "cell_type": "markdown",
      "id": "41767a61",
      "metadata": {
        "id": "41767a61"
      },
      "source": [
        "- We are removing special characters like **%** and abbreviations like **K** and **M** to represent the values as numbers.\n",
        "- We are changing the data type of the columns from object data type to float or int to make them compatible with numerical analysis."
      ]
    },
    {
      "cell_type": "code",
      "execution_count": 35,
      "id": "99a904eb",
      "metadata": {
        "id": "99a904eb",
        "colab": {
          "base_uri": "https://localhost:8080/",
          "height": 424
        },
        "outputId": "276f4ba6-fef6-496f-c8aa-09fadf66bd50"
      },
      "outputs": [
        {
          "output_type": "execute_result",
          "data": {
            "text/plain": [
              "     acceptance accepted submission discussion_count  likes\n",
              "0         54.4%    15.4M      28.4M             1.1K  59.2K\n",
              "1         44.8%     5.2M      11.7M              739  32.3K\n",
              "2         35.9%     6.7M      18.6M              457  40.8K\n",
              "3         42.2%       3M       7.2M              562  29.1K\n",
              "4         34.9%     3.5M        10M              371    30K\n",
              "...         ...      ...        ...              ...    ...\n",
              "2995      33.1%    35.1K     105.9K               60    122\n",
              "2996      85.9%   113.8K     132.5K              103    590\n",
              "2997      47.2%    22.3K      47.3K               25    259\n",
              "2998      26.4%     5.4K      20.3K                7    109\n",
              "2999      36.4%    38.7K     106.3K               15    109\n",
              "\n",
              "[3000 rows x 5 columns]"
            ],
            "text/html": [
              "\n",
              "  <div id=\"df-a6f71f42-f35e-42cd-ae55-59dd3c61c051\" class=\"colab-df-container\">\n",
              "    <div>\n",
              "<style scoped>\n",
              "    .dataframe tbody tr th:only-of-type {\n",
              "        vertical-align: middle;\n",
              "    }\n",
              "\n",
              "    .dataframe tbody tr th {\n",
              "        vertical-align: top;\n",
              "    }\n",
              "\n",
              "    .dataframe thead th {\n",
              "        text-align: right;\n",
              "    }\n",
              "</style>\n",
              "<table border=\"1\" class=\"dataframe\">\n",
              "  <thead>\n",
              "    <tr style=\"text-align: right;\">\n",
              "      <th></th>\n",
              "      <th>acceptance</th>\n",
              "      <th>accepted</th>\n",
              "      <th>submission</th>\n",
              "      <th>discussion_count</th>\n",
              "      <th>likes</th>\n",
              "    </tr>\n",
              "  </thead>\n",
              "  <tbody>\n",
              "    <tr>\n",
              "      <th>0</th>\n",
              "      <td>54.4%</td>\n",
              "      <td>15.4M</td>\n",
              "      <td>28.4M</td>\n",
              "      <td>1.1K</td>\n",
              "      <td>59.2K</td>\n",
              "    </tr>\n",
              "    <tr>\n",
              "      <th>1</th>\n",
              "      <td>44.8%</td>\n",
              "      <td>5.2M</td>\n",
              "      <td>11.7M</td>\n",
              "      <td>739</td>\n",
              "      <td>32.3K</td>\n",
              "    </tr>\n",
              "    <tr>\n",
              "      <th>2</th>\n",
              "      <td>35.9%</td>\n",
              "      <td>6.7M</td>\n",
              "      <td>18.6M</td>\n",
              "      <td>457</td>\n",
              "      <td>40.8K</td>\n",
              "    </tr>\n",
              "    <tr>\n",
              "      <th>3</th>\n",
              "      <td>42.2%</td>\n",
              "      <td>3M</td>\n",
              "      <td>7.2M</td>\n",
              "      <td>562</td>\n",
              "      <td>29.1K</td>\n",
              "    </tr>\n",
              "    <tr>\n",
              "      <th>4</th>\n",
              "      <td>34.9%</td>\n",
              "      <td>3.5M</td>\n",
              "      <td>10M</td>\n",
              "      <td>371</td>\n",
              "      <td>30K</td>\n",
              "    </tr>\n",
              "    <tr>\n",
              "      <th>...</th>\n",
              "      <td>...</td>\n",
              "      <td>...</td>\n",
              "      <td>...</td>\n",
              "      <td>...</td>\n",
              "      <td>...</td>\n",
              "    </tr>\n",
              "    <tr>\n",
              "      <th>2995</th>\n",
              "      <td>33.1%</td>\n",
              "      <td>35.1K</td>\n",
              "      <td>105.9K</td>\n",
              "      <td>60</td>\n",
              "      <td>122</td>\n",
              "    </tr>\n",
              "    <tr>\n",
              "      <th>2996</th>\n",
              "      <td>85.9%</td>\n",
              "      <td>113.8K</td>\n",
              "      <td>132.5K</td>\n",
              "      <td>103</td>\n",
              "      <td>590</td>\n",
              "    </tr>\n",
              "    <tr>\n",
              "      <th>2997</th>\n",
              "      <td>47.2%</td>\n",
              "      <td>22.3K</td>\n",
              "      <td>47.3K</td>\n",
              "      <td>25</td>\n",
              "      <td>259</td>\n",
              "    </tr>\n",
              "    <tr>\n",
              "      <th>2998</th>\n",
              "      <td>26.4%</td>\n",
              "      <td>5.4K</td>\n",
              "      <td>20.3K</td>\n",
              "      <td>7</td>\n",
              "      <td>109</td>\n",
              "    </tr>\n",
              "    <tr>\n",
              "      <th>2999</th>\n",
              "      <td>36.4%</td>\n",
              "      <td>38.7K</td>\n",
              "      <td>106.3K</td>\n",
              "      <td>15</td>\n",
              "      <td>109</td>\n",
              "    </tr>\n",
              "  </tbody>\n",
              "</table>\n",
              "<p>3000 rows × 5 columns</p>\n",
              "</div>\n",
              "    <div class=\"colab-df-buttons\">\n",
              "\n",
              "  <div class=\"colab-df-container\">\n",
              "    <button class=\"colab-df-convert\" onclick=\"convertToInteractive('df-a6f71f42-f35e-42cd-ae55-59dd3c61c051')\"\n",
              "            title=\"Convert this dataframe to an interactive table.\"\n",
              "            style=\"display:none;\">\n",
              "\n",
              "  <svg xmlns=\"http://www.w3.org/2000/svg\" height=\"24px\" viewBox=\"0 -960 960 960\">\n",
              "    <path d=\"M120-120v-720h720v720H120Zm60-500h600v-160H180v160Zm220 220h160v-160H400v160Zm0 220h160v-160H400v160ZM180-400h160v-160H180v160Zm440 0h160v-160H620v160ZM180-180h160v-160H180v160Zm440 0h160v-160H620v160Z\"/>\n",
              "  </svg>\n",
              "    </button>\n",
              "\n",
              "  <style>\n",
              "    .colab-df-container {\n",
              "      display:flex;\n",
              "      gap: 12px;\n",
              "    }\n",
              "\n",
              "    .colab-df-convert {\n",
              "      background-color: #E8F0FE;\n",
              "      border: none;\n",
              "      border-radius: 50%;\n",
              "      cursor: pointer;\n",
              "      display: none;\n",
              "      fill: #1967D2;\n",
              "      height: 32px;\n",
              "      padding: 0 0 0 0;\n",
              "      width: 32px;\n",
              "    }\n",
              "\n",
              "    .colab-df-convert:hover {\n",
              "      background-color: #E2EBFA;\n",
              "      box-shadow: 0px 1px 2px rgba(60, 64, 67, 0.3), 0px 1px 3px 1px rgba(60, 64, 67, 0.15);\n",
              "      fill: #174EA6;\n",
              "    }\n",
              "\n",
              "    .colab-df-buttons div {\n",
              "      margin-bottom: 4px;\n",
              "    }\n",
              "\n",
              "    [theme=dark] .colab-df-convert {\n",
              "      background-color: #3B4455;\n",
              "      fill: #D2E3FC;\n",
              "    }\n",
              "\n",
              "    [theme=dark] .colab-df-convert:hover {\n",
              "      background-color: #434B5C;\n",
              "      box-shadow: 0px 1px 3px 1px rgba(0, 0, 0, 0.15);\n",
              "      filter: drop-shadow(0px 1px 2px rgba(0, 0, 0, 0.3));\n",
              "      fill: #FFFFFF;\n",
              "    }\n",
              "  </style>\n",
              "\n",
              "    <script>\n",
              "      const buttonEl =\n",
              "        document.querySelector('#df-a6f71f42-f35e-42cd-ae55-59dd3c61c051 button.colab-df-convert');\n",
              "      buttonEl.style.display =\n",
              "        google.colab.kernel.accessAllowed ? 'block' : 'none';\n",
              "\n",
              "      async function convertToInteractive(key) {\n",
              "        const element = document.querySelector('#df-a6f71f42-f35e-42cd-ae55-59dd3c61c051');\n",
              "        const dataTable =\n",
              "          await google.colab.kernel.invokeFunction('convertToInteractive',\n",
              "                                                    [key], {});\n",
              "        if (!dataTable) return;\n",
              "\n",
              "        const docLinkHtml = 'Like what you see? Visit the ' +\n",
              "          '<a target=\"_blank\" href=https://colab.research.google.com/notebooks/data_table.ipynb>data table notebook</a>'\n",
              "          + ' to learn more about interactive tables.';\n",
              "        element.innerHTML = '';\n",
              "        dataTable['output_type'] = 'display_data';\n",
              "        await google.colab.output.renderOutput(dataTable, element);\n",
              "        const docLink = document.createElement('div');\n",
              "        docLink.innerHTML = docLinkHtml;\n",
              "        element.appendChild(docLink);\n",
              "      }\n",
              "    </script>\n",
              "  </div>\n",
              "\n",
              "\n",
              "<div id=\"df-88442129-9bac-4d7e-8c91-234ab5529ef8\">\n",
              "  <button class=\"colab-df-quickchart\" onclick=\"quickchart('df-88442129-9bac-4d7e-8c91-234ab5529ef8')\"\n",
              "            title=\"Suggest charts\"\n",
              "            style=\"display:none;\">\n",
              "\n",
              "<svg xmlns=\"http://www.w3.org/2000/svg\" height=\"24px\"viewBox=\"0 0 24 24\"\n",
              "     width=\"24px\">\n",
              "    <g>\n",
              "        <path d=\"M19 3H5c-1.1 0-2 .9-2 2v14c0 1.1.9 2 2 2h14c1.1 0 2-.9 2-2V5c0-1.1-.9-2-2-2zM9 17H7v-7h2v7zm4 0h-2V7h2v10zm4 0h-2v-4h2v4z\"/>\n",
              "    </g>\n",
              "</svg>\n",
              "  </button>\n",
              "\n",
              "<style>\n",
              "  .colab-df-quickchart {\n",
              "      --bg-color: #E8F0FE;\n",
              "      --fill-color: #1967D2;\n",
              "      --hover-bg-color: #E2EBFA;\n",
              "      --hover-fill-color: #174EA6;\n",
              "      --disabled-fill-color: #AAA;\n",
              "      --disabled-bg-color: #DDD;\n",
              "  }\n",
              "\n",
              "  [theme=dark] .colab-df-quickchart {\n",
              "      --bg-color: #3B4455;\n",
              "      --fill-color: #D2E3FC;\n",
              "      --hover-bg-color: #434B5C;\n",
              "      --hover-fill-color: #FFFFFF;\n",
              "      --disabled-bg-color: #3B4455;\n",
              "      --disabled-fill-color: #666;\n",
              "  }\n",
              "\n",
              "  .colab-df-quickchart {\n",
              "    background-color: var(--bg-color);\n",
              "    border: none;\n",
              "    border-radius: 50%;\n",
              "    cursor: pointer;\n",
              "    display: none;\n",
              "    fill: var(--fill-color);\n",
              "    height: 32px;\n",
              "    padding: 0;\n",
              "    width: 32px;\n",
              "  }\n",
              "\n",
              "  .colab-df-quickchart:hover {\n",
              "    background-color: var(--hover-bg-color);\n",
              "    box-shadow: 0 1px 2px rgba(60, 64, 67, 0.3), 0 1px 3px 1px rgba(60, 64, 67, 0.15);\n",
              "    fill: var(--button-hover-fill-color);\n",
              "  }\n",
              "\n",
              "  .colab-df-quickchart-complete:disabled,\n",
              "  .colab-df-quickchart-complete:disabled:hover {\n",
              "    background-color: var(--disabled-bg-color);\n",
              "    fill: var(--disabled-fill-color);\n",
              "    box-shadow: none;\n",
              "  }\n",
              "\n",
              "  .colab-df-spinner {\n",
              "    border: 2px solid var(--fill-color);\n",
              "    border-color: transparent;\n",
              "    border-bottom-color: var(--fill-color);\n",
              "    animation:\n",
              "      spin 1s steps(1) infinite;\n",
              "  }\n",
              "\n",
              "  @keyframes spin {\n",
              "    0% {\n",
              "      border-color: transparent;\n",
              "      border-bottom-color: var(--fill-color);\n",
              "      border-left-color: var(--fill-color);\n",
              "    }\n",
              "    20% {\n",
              "      border-color: transparent;\n",
              "      border-left-color: var(--fill-color);\n",
              "      border-top-color: var(--fill-color);\n",
              "    }\n",
              "    30% {\n",
              "      border-color: transparent;\n",
              "      border-left-color: var(--fill-color);\n",
              "      border-top-color: var(--fill-color);\n",
              "      border-right-color: var(--fill-color);\n",
              "    }\n",
              "    40% {\n",
              "      border-color: transparent;\n",
              "      border-right-color: var(--fill-color);\n",
              "      border-top-color: var(--fill-color);\n",
              "    }\n",
              "    60% {\n",
              "      border-color: transparent;\n",
              "      border-right-color: var(--fill-color);\n",
              "    }\n",
              "    80% {\n",
              "      border-color: transparent;\n",
              "      border-right-color: var(--fill-color);\n",
              "      border-bottom-color: var(--fill-color);\n",
              "    }\n",
              "    90% {\n",
              "      border-color: transparent;\n",
              "      border-bottom-color: var(--fill-color);\n",
              "    }\n",
              "  }\n",
              "</style>\n",
              "\n",
              "  <script>\n",
              "    async function quickchart(key) {\n",
              "      const quickchartButtonEl =\n",
              "        document.querySelector('#' + key + ' button');\n",
              "      quickchartButtonEl.disabled = true;  // To prevent multiple clicks.\n",
              "      quickchartButtonEl.classList.add('colab-df-spinner');\n",
              "      try {\n",
              "        const charts = await google.colab.kernel.invokeFunction(\n",
              "            'suggestCharts', [key], {});\n",
              "      } catch (error) {\n",
              "        console.error('Error during call to suggestCharts:', error);\n",
              "      }\n",
              "      quickchartButtonEl.classList.remove('colab-df-spinner');\n",
              "      quickchartButtonEl.classList.add('colab-df-quickchart-complete');\n",
              "    }\n",
              "    (() => {\n",
              "      let quickchartButtonEl =\n",
              "        document.querySelector('#df-88442129-9bac-4d7e-8c91-234ab5529ef8 button');\n",
              "      quickchartButtonEl.style.display =\n",
              "        google.colab.kernel.accessAllowed ? 'block' : 'none';\n",
              "    })();\n",
              "  </script>\n",
              "</div>\n",
              "\n",
              "    </div>\n",
              "  </div>\n"
            ],
            "application/vnd.google.colaboratory.intrinsic+json": {
              "type": "dataframe",
              "summary": "{\n  \"name\": \"df[['acceptance','accepted','submission','discussion_count','likes']]\",\n  \"rows\": 3000,\n  \"fields\": [\n    {\n      \"column\": \"acceptance\",\n      \"properties\": {\n        \"dtype\": \"category\",\n        \"num_unique_values\": 661,\n        \"samples\": [\n          \"94.4%\",\n          \"73.9%\",\n          \"55.9%\"\n        ],\n        \"semantic_type\": \"\",\n        \"description\": \"\"\n      }\n    },\n    {\n      \"column\": \"accepted\",\n      \"properties\": {\n        \"dtype\": \"string\",\n        \"num_unique_values\": 1559,\n        \"samples\": [\n          \"75.2K\",\n          \"47.3K\",\n          \"262K\"\n        ],\n        \"semantic_type\": \"\",\n        \"description\": \"\"\n      }\n    },\n    {\n      \"column\": \"submission\",\n      \"properties\": {\n        \"dtype\": \"string\",\n        \"num_unique_values\": 1710,\n        \"samples\": [\n          \"224.5K\",\n          \"203.4K\",\n          \"64.1K\"\n        ],\n        \"semantic_type\": \"\",\n        \"description\": \"\"\n      }\n    },\n    {\n      \"column\": \"discussion_count\",\n      \"properties\": {\n        \"dtype\": \"category\",\n        \"num_unique_values\": 292,\n        \"samples\": [\n          \"45\",\n          \"77\",\n          \"191\"\n        ],\n        \"semantic_type\": \"\",\n        \"description\": \"\"\n      }\n    },\n    {\n      \"column\": \"likes\",\n      \"properties\": {\n        \"dtype\": \"category\",\n        \"num_unique_values\": 787,\n        \"samples\": [\n          \"921\",\n          \"11.2K\",\n          \"172\"\n        ],\n        \"semantic_type\": \"\",\n        \"description\": \"\"\n      }\n    }\n  ]\n}"
            }
          },
          "metadata": {},
          "execution_count": 35
        }
      ],
      "source": [
        "# Retrieve specific columns ['acceptance', 'accepted', 'submission', 'solution', 'discussion_count', 'likes', 'dislikes']\n",
        "# from the DataFrame 'df'\n",
        "df[['acceptance','accepted','submission','discussion_count','likes']]"
      ]
    },
    {
      "cell_type": "code",
      "execution_count": 36,
      "id": "6f58a309",
      "metadata": {
        "id": "6f58a309",
        "colab": {
          "base_uri": "https://localhost:8080/"
        },
        "outputId": "35f8aa8b-55d7-415d-8284-75cc57ed1099"
      },
      "outputs": [
        {
          "output_type": "stream",
          "name": "stdout",
          "text": [
            "<class 'pandas.core.frame.DataFrame'>\n",
            "RangeIndex: 3000 entries, 0 to 2999\n",
            "Data columns (total 5 columns):\n",
            " #   Column            Non-Null Count  Dtype \n",
            "---  ------            --------------  ----- \n",
            " 0   acceptance        3000 non-null   object\n",
            " 1   accepted          2400 non-null   object\n",
            " 2   submission        2400 non-null   object\n",
            " 3   discussion_count  2400 non-null   object\n",
            " 4   likes             2400 non-null   object\n",
            "dtypes: object(5)\n",
            "memory usage: 117.3+ KB\n"
          ]
        }
      ],
      "source": [
        "# Displaying information about selected columns ['acceptance', 'accepted', 'submission', 'solution', 'discussion_count', 'likes', 'dislikes']\n",
        "# in the DataFrame 'df'.\n",
        "df[['acceptance','accepted','submission','discussion_count','likes']].info()"
      ]
    },
    {
      "cell_type": "markdown",
      "id": "914fe611",
      "metadata": {
        "id": "914fe611"
      },
      "source": [
        "### `acceptance`"
      ]
    },
    {
      "cell_type": "code",
      "execution_count": 37,
      "id": "97acf171",
      "metadata": {
        "id": "97acf171"
      },
      "outputs": [],
      "source": [
        "# Stripping the percentage sign from the 'acceptance' column in the DataFrame 'df'\n",
        "# and converting the values to floating-point numbers.\n",
        "df['acceptance'] = df['acceptance'].str.rstrip('%').astype('float')"
      ]
    },
    {
      "cell_type": "markdown",
      "id": "2ad739c6",
      "metadata": {
        "id": "2ad739c6"
      },
      "source": [
        "### `accepted`"
      ]
    },
    {
      "cell_type": "code",
      "execution_count": 38,
      "id": "292fad22",
      "metadata": {
        "id": "292fad22"
      },
      "outputs": [],
      "source": [
        "# Replacing 'K' with 'e3' and 'M' with 'e6' in the 'accepted' column of the DataFrame 'df', then converting the values to floating-point numbers.\n",
        "df['accepted'] = df['accepted'].str.replace('K', 'e3').str.replace('M', 'e6').astype(float)\n",
        "\n",
        "# Converting the 'accepted' column to numeric values, handling errors by coercing non-numeric values to NaN, and then converting to nullable integer type (Int32).\n",
        "df['accepted'] = pd.to_numeric(df['accepted'], errors='coerce').astype('Int32')"
      ]
    },
    {
      "cell_type": "markdown",
      "id": "714b58ba",
      "metadata": {
        "id": "714b58ba"
      },
      "source": [
        "### `submission`"
      ]
    },
    {
      "cell_type": "code",
      "execution_count": 39,
      "id": "d33da4f9",
      "metadata": {
        "id": "d33da4f9"
      },
      "outputs": [],
      "source": [
        "# Replacing 'K' with 'e3' and 'M' with 'e6' in the 'submission' column of the DataFrame 'df', then converting the values to floating-point numbers.\n",
        "df['submission'] = df['submission'].str.replace('K', 'e3').str.replace('M', 'e6').astype(float)\n",
        "\n",
        "# Converting the 'submission' column to numeric values, handling errors by coercing non-numeric values to NaN, and then converting to nullable integer type (Int32).\n",
        "df['submission'] = pd.to_numeric(df['submission'], errors='coerce').astype('Int32')"
      ]
    },
    {
      "cell_type": "markdown",
      "id": "c46470e8",
      "metadata": {
        "id": "c46470e8"
      },
      "source": [
        "### `discussion_count`"
      ]
    },
    {
      "cell_type": "code",
      "execution_count": 41,
      "id": "b4615260",
      "metadata": {
        "id": "b4615260"
      },
      "outputs": [],
      "source": [
        "# Converting the 'discussion_count' column in the DataFrame 'df' to numeric values, handling errors by coercing non-numeric values to NaN,\n",
        "# and then converting to nullable integer type (Int32).\n",
        "\n",
        "df['discussion_count'] = pd.to_numeric(df['discussion_count'], errors='coerce').astype('Int32')"
      ]
    },
    {
      "cell_type": "markdown",
      "id": "c65368e6",
      "metadata": {
        "id": "c65368e6"
      },
      "source": [
        "### `likes`"
      ]
    },
    {
      "cell_type": "code",
      "execution_count": 42,
      "id": "6c876b1a",
      "metadata": {
        "id": "6c876b1a"
      },
      "outputs": [],
      "source": [
        "# Replacing 'K' with 'e3' and 'M' with 'e6' in the 'likes' column of the DataFrame 'df', then converting the values to floating-point numbers.\n",
        "df['likes'] = df['likes'].str.replace('K', 'e3').str.replace('M', 'e6').astype(float)\n",
        "\n",
        "# Converting the 'likes' column to numeric values, handling errors by coercing non-numeric values to NaN, and then converting to nullable integer type (Int32).\n",
        "df['likes'] = pd.to_numeric(df['likes'], errors='coerce').astype('Int32')"
      ]
    },
    {
      "cell_type": "code",
      "execution_count": 43,
      "id": "476cf620",
      "metadata": {
        "id": "476cf620",
        "colab": {
          "base_uri": "https://localhost:8080/",
          "height": 424
        },
        "outputId": "86f94685-859f-496a-c466-3a28cf020673"
      },
      "outputs": [
        {
          "output_type": "execute_result",
          "data": {
            "text/plain": [
              "      acceptance  accepted  submission  discussion_count  likes\n",
              "0           54.4  15400000    28400000              <NA>  59200\n",
              "1           44.8   5200000    11700000               739  32300\n",
              "2           35.9   6700000    18600000               457  40800\n",
              "3           42.2   3000000     7200000               562  29100\n",
              "4           34.9   3500000    10000000               371  30000\n",
              "...          ...       ...         ...               ...    ...\n",
              "2995        33.1     35100      105900                60    122\n",
              "2996        85.9    113800      132500               103    590\n",
              "2997        47.2     22300       47300                25    259\n",
              "2998        26.4      5400       20300                 7    109\n",
              "2999        36.4     38700      106300                15    109\n",
              "\n",
              "[3000 rows x 5 columns]"
            ],
            "text/html": [
              "\n",
              "  <div id=\"df-d1bf3487-3f3b-4d18-a0dc-4ed819ae9d56\" class=\"colab-df-container\">\n",
              "    <div>\n",
              "<style scoped>\n",
              "    .dataframe tbody tr th:only-of-type {\n",
              "        vertical-align: middle;\n",
              "    }\n",
              "\n",
              "    .dataframe tbody tr th {\n",
              "        vertical-align: top;\n",
              "    }\n",
              "\n",
              "    .dataframe thead th {\n",
              "        text-align: right;\n",
              "    }\n",
              "</style>\n",
              "<table border=\"1\" class=\"dataframe\">\n",
              "  <thead>\n",
              "    <tr style=\"text-align: right;\">\n",
              "      <th></th>\n",
              "      <th>acceptance</th>\n",
              "      <th>accepted</th>\n",
              "      <th>submission</th>\n",
              "      <th>discussion_count</th>\n",
              "      <th>likes</th>\n",
              "    </tr>\n",
              "  </thead>\n",
              "  <tbody>\n",
              "    <tr>\n",
              "      <th>0</th>\n",
              "      <td>54.4</td>\n",
              "      <td>15400000</td>\n",
              "      <td>28400000</td>\n",
              "      <td>&lt;NA&gt;</td>\n",
              "      <td>59200</td>\n",
              "    </tr>\n",
              "    <tr>\n",
              "      <th>1</th>\n",
              "      <td>44.8</td>\n",
              "      <td>5200000</td>\n",
              "      <td>11700000</td>\n",
              "      <td>739</td>\n",
              "      <td>32300</td>\n",
              "    </tr>\n",
              "    <tr>\n",
              "      <th>2</th>\n",
              "      <td>35.9</td>\n",
              "      <td>6700000</td>\n",
              "      <td>18600000</td>\n",
              "      <td>457</td>\n",
              "      <td>40800</td>\n",
              "    </tr>\n",
              "    <tr>\n",
              "      <th>3</th>\n",
              "      <td>42.2</td>\n",
              "      <td>3000000</td>\n",
              "      <td>7200000</td>\n",
              "      <td>562</td>\n",
              "      <td>29100</td>\n",
              "    </tr>\n",
              "    <tr>\n",
              "      <th>4</th>\n",
              "      <td>34.9</td>\n",
              "      <td>3500000</td>\n",
              "      <td>10000000</td>\n",
              "      <td>371</td>\n",
              "      <td>30000</td>\n",
              "    </tr>\n",
              "    <tr>\n",
              "      <th>...</th>\n",
              "      <td>...</td>\n",
              "      <td>...</td>\n",
              "      <td>...</td>\n",
              "      <td>...</td>\n",
              "      <td>...</td>\n",
              "    </tr>\n",
              "    <tr>\n",
              "      <th>2995</th>\n",
              "      <td>33.1</td>\n",
              "      <td>35100</td>\n",
              "      <td>105900</td>\n",
              "      <td>60</td>\n",
              "      <td>122</td>\n",
              "    </tr>\n",
              "    <tr>\n",
              "      <th>2996</th>\n",
              "      <td>85.9</td>\n",
              "      <td>113800</td>\n",
              "      <td>132500</td>\n",
              "      <td>103</td>\n",
              "      <td>590</td>\n",
              "    </tr>\n",
              "    <tr>\n",
              "      <th>2997</th>\n",
              "      <td>47.2</td>\n",
              "      <td>22300</td>\n",
              "      <td>47300</td>\n",
              "      <td>25</td>\n",
              "      <td>259</td>\n",
              "    </tr>\n",
              "    <tr>\n",
              "      <th>2998</th>\n",
              "      <td>26.4</td>\n",
              "      <td>5400</td>\n",
              "      <td>20300</td>\n",
              "      <td>7</td>\n",
              "      <td>109</td>\n",
              "    </tr>\n",
              "    <tr>\n",
              "      <th>2999</th>\n",
              "      <td>36.4</td>\n",
              "      <td>38700</td>\n",
              "      <td>106300</td>\n",
              "      <td>15</td>\n",
              "      <td>109</td>\n",
              "    </tr>\n",
              "  </tbody>\n",
              "</table>\n",
              "<p>3000 rows × 5 columns</p>\n",
              "</div>\n",
              "    <div class=\"colab-df-buttons\">\n",
              "\n",
              "  <div class=\"colab-df-container\">\n",
              "    <button class=\"colab-df-convert\" onclick=\"convertToInteractive('df-d1bf3487-3f3b-4d18-a0dc-4ed819ae9d56')\"\n",
              "            title=\"Convert this dataframe to an interactive table.\"\n",
              "            style=\"display:none;\">\n",
              "\n",
              "  <svg xmlns=\"http://www.w3.org/2000/svg\" height=\"24px\" viewBox=\"0 -960 960 960\">\n",
              "    <path d=\"M120-120v-720h720v720H120Zm60-500h600v-160H180v160Zm220 220h160v-160H400v160Zm0 220h160v-160H400v160ZM180-400h160v-160H180v160Zm440 0h160v-160H620v160ZM180-180h160v-160H180v160Zm440 0h160v-160H620v160Z\"/>\n",
              "  </svg>\n",
              "    </button>\n",
              "\n",
              "  <style>\n",
              "    .colab-df-container {\n",
              "      display:flex;\n",
              "      gap: 12px;\n",
              "    }\n",
              "\n",
              "    .colab-df-convert {\n",
              "      background-color: #E8F0FE;\n",
              "      border: none;\n",
              "      border-radius: 50%;\n",
              "      cursor: pointer;\n",
              "      display: none;\n",
              "      fill: #1967D2;\n",
              "      height: 32px;\n",
              "      padding: 0 0 0 0;\n",
              "      width: 32px;\n",
              "    }\n",
              "\n",
              "    .colab-df-convert:hover {\n",
              "      background-color: #E2EBFA;\n",
              "      box-shadow: 0px 1px 2px rgba(60, 64, 67, 0.3), 0px 1px 3px 1px rgba(60, 64, 67, 0.15);\n",
              "      fill: #174EA6;\n",
              "    }\n",
              "\n",
              "    .colab-df-buttons div {\n",
              "      margin-bottom: 4px;\n",
              "    }\n",
              "\n",
              "    [theme=dark] .colab-df-convert {\n",
              "      background-color: #3B4455;\n",
              "      fill: #D2E3FC;\n",
              "    }\n",
              "\n",
              "    [theme=dark] .colab-df-convert:hover {\n",
              "      background-color: #434B5C;\n",
              "      box-shadow: 0px 1px 3px 1px rgba(0, 0, 0, 0.15);\n",
              "      filter: drop-shadow(0px 1px 2px rgba(0, 0, 0, 0.3));\n",
              "      fill: #FFFFFF;\n",
              "    }\n",
              "  </style>\n",
              "\n",
              "    <script>\n",
              "      const buttonEl =\n",
              "        document.querySelector('#df-d1bf3487-3f3b-4d18-a0dc-4ed819ae9d56 button.colab-df-convert');\n",
              "      buttonEl.style.display =\n",
              "        google.colab.kernel.accessAllowed ? 'block' : 'none';\n",
              "\n",
              "      async function convertToInteractive(key) {\n",
              "        const element = document.querySelector('#df-d1bf3487-3f3b-4d18-a0dc-4ed819ae9d56');\n",
              "        const dataTable =\n",
              "          await google.colab.kernel.invokeFunction('convertToInteractive',\n",
              "                                                    [key], {});\n",
              "        if (!dataTable) return;\n",
              "\n",
              "        const docLinkHtml = 'Like what you see? Visit the ' +\n",
              "          '<a target=\"_blank\" href=https://colab.research.google.com/notebooks/data_table.ipynb>data table notebook</a>'\n",
              "          + ' to learn more about interactive tables.';\n",
              "        element.innerHTML = '';\n",
              "        dataTable['output_type'] = 'display_data';\n",
              "        await google.colab.output.renderOutput(dataTable, element);\n",
              "        const docLink = document.createElement('div');\n",
              "        docLink.innerHTML = docLinkHtml;\n",
              "        element.appendChild(docLink);\n",
              "      }\n",
              "    </script>\n",
              "  </div>\n",
              "\n",
              "\n",
              "<div id=\"df-0dab04ca-51dc-43d0-b763-863fef6a5b26\">\n",
              "  <button class=\"colab-df-quickchart\" onclick=\"quickchart('df-0dab04ca-51dc-43d0-b763-863fef6a5b26')\"\n",
              "            title=\"Suggest charts\"\n",
              "            style=\"display:none;\">\n",
              "\n",
              "<svg xmlns=\"http://www.w3.org/2000/svg\" height=\"24px\"viewBox=\"0 0 24 24\"\n",
              "     width=\"24px\">\n",
              "    <g>\n",
              "        <path d=\"M19 3H5c-1.1 0-2 .9-2 2v14c0 1.1.9 2 2 2h14c1.1 0 2-.9 2-2V5c0-1.1-.9-2-2-2zM9 17H7v-7h2v7zm4 0h-2V7h2v10zm4 0h-2v-4h2v4z\"/>\n",
              "    </g>\n",
              "</svg>\n",
              "  </button>\n",
              "\n",
              "<style>\n",
              "  .colab-df-quickchart {\n",
              "      --bg-color: #E8F0FE;\n",
              "      --fill-color: #1967D2;\n",
              "      --hover-bg-color: #E2EBFA;\n",
              "      --hover-fill-color: #174EA6;\n",
              "      --disabled-fill-color: #AAA;\n",
              "      --disabled-bg-color: #DDD;\n",
              "  }\n",
              "\n",
              "  [theme=dark] .colab-df-quickchart {\n",
              "      --bg-color: #3B4455;\n",
              "      --fill-color: #D2E3FC;\n",
              "      --hover-bg-color: #434B5C;\n",
              "      --hover-fill-color: #FFFFFF;\n",
              "      --disabled-bg-color: #3B4455;\n",
              "      --disabled-fill-color: #666;\n",
              "  }\n",
              "\n",
              "  .colab-df-quickchart {\n",
              "    background-color: var(--bg-color);\n",
              "    border: none;\n",
              "    border-radius: 50%;\n",
              "    cursor: pointer;\n",
              "    display: none;\n",
              "    fill: var(--fill-color);\n",
              "    height: 32px;\n",
              "    padding: 0;\n",
              "    width: 32px;\n",
              "  }\n",
              "\n",
              "  .colab-df-quickchart:hover {\n",
              "    background-color: var(--hover-bg-color);\n",
              "    box-shadow: 0 1px 2px rgba(60, 64, 67, 0.3), 0 1px 3px 1px rgba(60, 64, 67, 0.15);\n",
              "    fill: var(--button-hover-fill-color);\n",
              "  }\n",
              "\n",
              "  .colab-df-quickchart-complete:disabled,\n",
              "  .colab-df-quickchart-complete:disabled:hover {\n",
              "    background-color: var(--disabled-bg-color);\n",
              "    fill: var(--disabled-fill-color);\n",
              "    box-shadow: none;\n",
              "  }\n",
              "\n",
              "  .colab-df-spinner {\n",
              "    border: 2px solid var(--fill-color);\n",
              "    border-color: transparent;\n",
              "    border-bottom-color: var(--fill-color);\n",
              "    animation:\n",
              "      spin 1s steps(1) infinite;\n",
              "  }\n",
              "\n",
              "  @keyframes spin {\n",
              "    0% {\n",
              "      border-color: transparent;\n",
              "      border-bottom-color: var(--fill-color);\n",
              "      border-left-color: var(--fill-color);\n",
              "    }\n",
              "    20% {\n",
              "      border-color: transparent;\n",
              "      border-left-color: var(--fill-color);\n",
              "      border-top-color: var(--fill-color);\n",
              "    }\n",
              "    30% {\n",
              "      border-color: transparent;\n",
              "      border-left-color: var(--fill-color);\n",
              "      border-top-color: var(--fill-color);\n",
              "      border-right-color: var(--fill-color);\n",
              "    }\n",
              "    40% {\n",
              "      border-color: transparent;\n",
              "      border-right-color: var(--fill-color);\n",
              "      border-top-color: var(--fill-color);\n",
              "    }\n",
              "    60% {\n",
              "      border-color: transparent;\n",
              "      border-right-color: var(--fill-color);\n",
              "    }\n",
              "    80% {\n",
              "      border-color: transparent;\n",
              "      border-right-color: var(--fill-color);\n",
              "      border-bottom-color: var(--fill-color);\n",
              "    }\n",
              "    90% {\n",
              "      border-color: transparent;\n",
              "      border-bottom-color: var(--fill-color);\n",
              "    }\n",
              "  }\n",
              "</style>\n",
              "\n",
              "  <script>\n",
              "    async function quickchart(key) {\n",
              "      const quickchartButtonEl =\n",
              "        document.querySelector('#' + key + ' button');\n",
              "      quickchartButtonEl.disabled = true;  // To prevent multiple clicks.\n",
              "      quickchartButtonEl.classList.add('colab-df-spinner');\n",
              "      try {\n",
              "        const charts = await google.colab.kernel.invokeFunction(\n",
              "            'suggestCharts', [key], {});\n",
              "      } catch (error) {\n",
              "        console.error('Error during call to suggestCharts:', error);\n",
              "      }\n",
              "      quickchartButtonEl.classList.remove('colab-df-spinner');\n",
              "      quickchartButtonEl.classList.add('colab-df-quickchart-complete');\n",
              "    }\n",
              "    (() => {\n",
              "      let quickchartButtonEl =\n",
              "        document.querySelector('#df-0dab04ca-51dc-43d0-b763-863fef6a5b26 button');\n",
              "      quickchartButtonEl.style.display =\n",
              "        google.colab.kernel.accessAllowed ? 'block' : 'none';\n",
              "    })();\n",
              "  </script>\n",
              "</div>\n",
              "\n",
              "    </div>\n",
              "  </div>\n"
            ],
            "application/vnd.google.colaboratory.intrinsic+json": {
              "type": "dataframe",
              "summary": "{\n  \"name\": \"df[['acceptance','accepted','submission','discussion_count','likes']]\",\n  \"rows\": 3000,\n  \"fields\": [\n    {\n      \"column\": \"acceptance\",\n      \"properties\": {\n        \"dtype\": \"number\",\n        \"std\": 15.63395866460992,\n        \"min\": 14.2,\n        \"max\": 94.4,\n        \"num_unique_values\": 661,\n        \"samples\": [\n          94.4,\n          73.9,\n          55.9\n        ],\n        \"semantic_type\": \"\",\n        \"description\": \"\"\n      }\n    },\n    {\n      \"column\": \"accepted\",\n      \"properties\": {\n        \"dtype\": \"Int32\",\n        \"num_unique_values\": 1559,\n        \"samples\": [\n          75200,\n          47300,\n          262000\n        ],\n        \"semantic_type\": \"\",\n        \"description\": \"\"\n      }\n    },\n    {\n      \"column\": \"submission\",\n      \"properties\": {\n        \"dtype\": \"Int32\",\n        \"num_unique_values\": 1710,\n        \"samples\": [\n          224500,\n          203400,\n          64100\n        ],\n        \"semantic_type\": \"\",\n        \"description\": \"\"\n      }\n    },\n    {\n      \"column\": \"discussion_count\",\n      \"properties\": {\n        \"dtype\": \"Int32\",\n        \"num_unique_values\": 291,\n        \"samples\": [\n          103,\n          77,\n          237\n        ],\n        \"semantic_type\": \"\",\n        \"description\": \"\"\n      }\n    },\n    {\n      \"column\": \"likes\",\n      \"properties\": {\n        \"dtype\": \"Int32\",\n        \"num_unique_values\": 787,\n        \"samples\": [\n          921,\n          11200,\n          172\n        ],\n        \"semantic_type\": \"\",\n        \"description\": \"\"\n      }\n    }\n  ]\n}"
            }
          },
          "metadata": {},
          "execution_count": 43
        }
      ],
      "source": [
        "# Displaying selected columns ['acceptance', 'accepted', 'submission', 'solution', 'discussion_count', 'likes', 'dislikes'] from the DataFrame 'df'\n",
        "\n",
        "df[['acceptance','accepted','submission','discussion_count','likes']]"
      ]
    },
    {
      "cell_type": "markdown",
      "id": "1daab8c5",
      "metadata": {
        "id": "1daab8c5"
      },
      "source": [
        "<center> <h2> Column Rearrangement </h2> </center>"
      ]
    },
    {
      "cell_type": "markdown",
      "id": "235e7b15",
      "metadata": {
        "id": "235e7b15"
      },
      "source": [
        "- This process involves changing the sequence of columns to make the DataFrame more organized, intuitive and suitable for analysis."
      ]
    },
    {
      "cell_type": "code",
      "execution_count": 44,
      "id": "22c80d90",
      "metadata": {
        "id": "22c80d90",
        "colab": {
          "base_uri": "https://localhost:8080/"
        },
        "outputId": "47d0e891-1d1a-47f9-f2e0-3b00f2d4146e"
      },
      "outputs": [
        {
          "output_type": "execute_result",
          "data": {
            "text/plain": [
              "(3000, 16)"
            ]
          },
          "metadata": {},
          "execution_count": 44
        }
      ],
      "source": [
        "# Displaying the shape (number of rows and columns) of the DataFrame 'df'\n",
        "df.shape"
      ]
    },
    {
      "cell_type": "code",
      "execution_count": 45,
      "id": "1d06ab55",
      "metadata": {
        "id": "1d06ab55"
      },
      "outputs": [],
      "source": [
        "# Arrangement of columns\n",
        "column_order = [\n",
        "    'id',\n",
        "    'page_number',\n",
        "    'is_premium',\n",
        "    'title',\n",
        "    'problem_description',\n",
        "    'topic_tags',\n",
        "    'difficulty',\n",
        "    'similar_questions',\n",
        "    'no_similar_questions',\n",
        "    'acceptance',\n",
        "    'accepted',\n",
        "    'submission',\n",
        "    'discussion_count',\n",
        "    'likes',\n",
        "    'problem_URL',\n",
        "    'solution_URL'\n",
        "]"
      ]
    },
    {
      "cell_type": "code",
      "execution_count": 46,
      "id": "ff1cf374",
      "metadata": {
        "id": "ff1cf374",
        "colab": {
          "base_uri": "https://localhost:8080/"
        },
        "outputId": "fc9bb3ad-8851-4aae-8baf-df94691c82aa"
      },
      "outputs": [
        {
          "output_type": "execute_result",
          "data": {
            "text/plain": [
              "16"
            ]
          },
          "metadata": {},
          "execution_count": 46
        }
      ],
      "source": [
        "# Check number of columns\n",
        "len(column_order)"
      ]
    },
    {
      "cell_type": "code",
      "execution_count": 47,
      "id": "08daa0de",
      "metadata": {
        "id": "08daa0de"
      },
      "outputs": [],
      "source": [
        "# Column Rearrangement\n",
        "df = df[column_order]"
      ]
    },
    {
      "cell_type": "markdown",
      "id": "40236ad1",
      "metadata": {
        "id": "40236ad1"
      },
      "source": [
        "### `Final Overview of the preprocessed data`"
      ]
    },
    {
      "cell_type": "code",
      "execution_count": 48,
      "id": "a387dc3b",
      "metadata": {
        "id": "a387dc3b",
        "colab": {
          "base_uri": "https://localhost:8080/"
        },
        "outputId": "bcccc0af-7f1a-4043-d2e4-7d9296947cf4"
      },
      "outputs": [
        {
          "output_type": "stream",
          "name": "stdout",
          "text": [
            "<class 'pandas.core.frame.DataFrame'>\n",
            "RangeIndex: 3000 entries, 0 to 2999\n",
            "Data columns (total 16 columns):\n",
            " #   Column                Non-Null Count  Dtype   \n",
            "---  ------                --------------  -----   \n",
            " 0   id                    3000 non-null   int64   \n",
            " 1   page_number           3000 non-null   category\n",
            " 2   is_premium            3000 non-null   bool    \n",
            " 3   title                 3000 non-null   object  \n",
            " 4   problem_description   2400 non-null   object  \n",
            " 5   topic_tags            2400 non-null   object  \n",
            " 6   difficulty            3000 non-null   object  \n",
            " 7   similar_questions     2400 non-null   object  \n",
            " 8   no_similar_questions  2400 non-null   float64 \n",
            " 9   acceptance            3000 non-null   float64 \n",
            " 10  accepted              2400 non-null   Int32   \n",
            " 11  submission            2400 non-null   Int32   \n",
            " 12  discussion_count      2399 non-null   Int32   \n",
            " 13  likes                 2400 non-null   Int32   \n",
            " 14  problem_URL           3000 non-null   object  \n",
            " 15  solution_URL          3000 non-null   object  \n",
            "dtypes: Int32(4), bool(1), category(1), float64(2), int64(1), object(7)\n",
            "memory usage: 301.5+ KB\n"
          ]
        }
      ],
      "source": [
        "# Information about dataframe\n",
        "df.info()"
      ]
    },
    {
      "cell_type": "code",
      "execution_count": 49,
      "id": "d379a66c",
      "metadata": {
        "id": "d379a66c",
        "colab": {
          "base_uri": "https://localhost:8080/",
          "height": 335
        },
        "outputId": "44f385f8-167f-4625-e2f9-d9502b714206"
      },
      "outputs": [
        {
          "output_type": "execute_result",
          "data": {
            "text/plain": [
              "problem_description     600\n",
              "topic_tags              600\n",
              "similar_questions       600\n",
              "no_similar_questions    600\n",
              "accepted                600\n",
              "submission              600\n",
              "discussion_count        601\n",
              "likes                   600\n",
              "dtype: int64"
            ],
            "text/html": [
              "<div>\n",
              "<style scoped>\n",
              "    .dataframe tbody tr th:only-of-type {\n",
              "        vertical-align: middle;\n",
              "    }\n",
              "\n",
              "    .dataframe tbody tr th {\n",
              "        vertical-align: top;\n",
              "    }\n",
              "\n",
              "    .dataframe thead th {\n",
              "        text-align: right;\n",
              "    }\n",
              "</style>\n",
              "<table border=\"1\" class=\"dataframe\">\n",
              "  <thead>\n",
              "    <tr style=\"text-align: right;\">\n",
              "      <th></th>\n",
              "      <th>0</th>\n",
              "    </tr>\n",
              "  </thead>\n",
              "  <tbody>\n",
              "    <tr>\n",
              "      <th>problem_description</th>\n",
              "      <td>600</td>\n",
              "    </tr>\n",
              "    <tr>\n",
              "      <th>topic_tags</th>\n",
              "      <td>600</td>\n",
              "    </tr>\n",
              "    <tr>\n",
              "      <th>similar_questions</th>\n",
              "      <td>600</td>\n",
              "    </tr>\n",
              "    <tr>\n",
              "      <th>no_similar_questions</th>\n",
              "      <td>600</td>\n",
              "    </tr>\n",
              "    <tr>\n",
              "      <th>accepted</th>\n",
              "      <td>600</td>\n",
              "    </tr>\n",
              "    <tr>\n",
              "      <th>submission</th>\n",
              "      <td>600</td>\n",
              "    </tr>\n",
              "    <tr>\n",
              "      <th>discussion_count</th>\n",
              "      <td>601</td>\n",
              "    </tr>\n",
              "    <tr>\n",
              "      <th>likes</th>\n",
              "      <td>600</td>\n",
              "    </tr>\n",
              "  </tbody>\n",
              "</table>\n",
              "</div><br><label><b>dtype:</b> int64</label>"
            ]
          },
          "metadata": {},
          "execution_count": 49
        }
      ],
      "source": [
        "# Displaying the count of null values for columns with non-zero null counts\n",
        "# in the DataFrame 'df'\n",
        "\n",
        "df.isnull().sum()[df.isnull().sum()!=0]"
      ]
    },
    {
      "cell_type": "markdown",
      "id": "9a2ac4ed",
      "metadata": {
        "id": "9a2ac4ed"
      },
      "source": [
        "- We lack some information regarding 840 premium questions."
      ]
    },
    {
      "cell_type": "markdown",
      "id": "4f48c126",
      "metadata": {
        "id": "4f48c126"
      },
      "source": [
        "<center><h2> Conclusion </h2></center>"
      ]
    },
    {
      "cell_type": "markdown",
      "id": "a8c98271",
      "metadata": {
        "id": "a8c98271"
      },
      "source": [
        "- The dataset is now prepared and cleaned for further analysis.\n",
        "- Missing data is imputed and formatted correctly.\n",
        "- Additional features are engineered for better insights."
      ]
    },
    {
      "cell_type": "code",
      "execution_count": 50,
      "id": "d0421900",
      "metadata": {
        "id": "d0421900"
      },
      "outputs": [],
      "source": [
        "# Saving the preprocessed DataFrame 'df'\n",
        "# to a CSV file named 'preprocessed_data.csv' without including the index.\n",
        "df.to_csv('preprocessed_data.csv', index=None)"
      ]
    },
    {
      "cell_type": "code",
      "execution_count": 51,
      "id": "48e7c22e",
      "metadata": {
        "id": "48e7c22e",
        "colab": {
          "base_uri": "https://localhost:8080/"
        },
        "outputId": "ef7d5f52-d09b-4dc9-8c7d-574688a34e88"
      },
      "outputs": [
        {
          "output_type": "stream",
          "name": "stdout",
          "text": [
            "<class 'pandas.core.frame.DataFrame'>\n",
            "RangeIndex: 3000 entries, 0 to 2999\n",
            "Data columns (total 16 columns):\n",
            " #   Column                Non-Null Count  Dtype  \n",
            "---  ------                --------------  -----  \n",
            " 0   id                    3000 non-null   int64  \n",
            " 1   page_number           3000 non-null   int64  \n",
            " 2   is_premium            3000 non-null   bool   \n",
            " 3   title                 3000 non-null   object \n",
            " 4   problem_description   2400 non-null   object \n",
            " 5   topic_tags            2400 non-null   object \n",
            " 6   difficulty            3000 non-null   object \n",
            " 7   similar_questions     2400 non-null   object \n",
            " 8   no_similar_questions  2400 non-null   float64\n",
            " 9   acceptance            3000 non-null   float64\n",
            " 10  accepted              2400 non-null   float64\n",
            " 11  submission            2400 non-null   float64\n",
            " 12  discussion_count      2399 non-null   float64\n",
            " 13  likes                 2400 non-null   float64\n",
            " 14  problem_URL           3000 non-null   object \n",
            " 15  solution_URL          3000 non-null   object \n",
            "dtypes: bool(1), float64(6), int64(2), object(7)\n",
            "memory usage: 354.6+ KB\n"
          ]
        }
      ],
      "source": [
        "pd.read_csv('preprocessed_data.csv').info()"
      ]
    }
  ],
  "metadata": {
    "kernelspec": {
      "display_name": "Python 3 (ipykernel)",
      "language": "python",
      "name": "python3"
    },
    "language_info": {
      "codemirror_mode": {
        "name": "ipython",
        "version": 3
      },
      "file_extension": ".py",
      "mimetype": "text/x-python",
      "name": "python",
      "nbconvert_exporter": "python",
      "pygments_lexer": "ipython3",
      "version": "3.10.9"
    },
    "colab": {
      "provenance": []
    }
  },
  "nbformat": 4,
  "nbformat_minor": 5
}